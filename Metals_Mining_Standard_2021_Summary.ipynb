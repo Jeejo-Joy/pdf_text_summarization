{
 "cells": [
  {
   "cell_type": "markdown",
   "id": "882cbb6f",
   "metadata": {},
   "source": [
    "# Metals Mining Standard 2021 Summary"
   ]
  },
  {
   "cell_type": "markdown",
   "id": "ade273a3",
   "metadata": {},
   "source": [
    "### Objective:\n",
    "\n",
    "Summarize the below pdf by different sections /headers.\n",
    "\n",
    "pdf link: https://www.sasb.org/wp-content/uploads/2018/11/Metals_Mining_Standard_2021.pdf\n",
    " \n",
    "\n",
    "The model should be able to extract the sections like Introduction, Sustainability disclosures topics…  and sub sections like Greenhouse Gas emission, Air Quality etc and it’s relevant text and summarize it.\n",
    "\n",
    " \n"
   ]
  },
  {
   "cell_type": "markdown",
   "id": "df34c307",
   "metadata": {},
   "source": [
    "\n",
    "## Table of Contents\n",
    "\n",
    "- [1. Read PDF](#READ_PDF)\n",
    "  - [1.1 Extract TOC](#section_1_1)\n",
    "  - [1.2 Extract Table](#section_1_2)\n",
    "  - [1.3 Extract Section Content](#section_1_3)\n",
    "- [2. Model Assessment](#Summary_of_Models)\n",
    "  - [2.1 Use Bert Model](#section_2_1)\n",
    "  - [2.1.1 T5 small Bert Model](#section_2_1_1)\n",
    "  - [2.1.2 MT5 Amazon fine tuned Bert Model](#section_2_1_2)\n",
    "  - [2.2 Bart Model](#section_2_2)\n",
    "  - [2.2.1 Default Bart Model](#section_2_2_1)\n",
    "  - [2.2.2 Facebook Bart Mode](#section_2_2_2)\n",
    "  - [2.3 Use GPT-3 Model](#section_2_3)\n",
    "  - [2.3.1 Open_ai_davinici_002 Model](#section_2_3_1)\n",
    "  - [2.3.2 Open_ai_davinici Modell](#section_2_3_2)\n",
    "  - [2.4 Bert Extractive Summarizer](#section_2_4)\n",
    "  - [2.4.1 Bert-large-uncased Model](#section_2_4_1)\n",
    "  - [2.4.2 Facebook Bart Modell](#section_2_4_2)\n",
    "  - [2.4.2 Paraphrase-MiniLM-L6-v2 Model](#section_2_4_2)\n",
    "  - [2.5 Use Custom Model](#section_2_5)\n",
    "- [3. Finalize Model](#section_3)\n",
    "  - [3.1 Analysis](#section_3_1)\n",
    "  - [3.2 Final Model](#section_3_3)\n",
    "  - [3.3 Save in output file](#section_3_3)\n",
    "- [4. Conclusion](#section_4)\n",
    "\n",
    "<!-- ### Table of Contents:\n",
    "\n",
    "## 1. Read PDF\n",
    "## 1.1 Extract TOC\n",
    "## 1.2 Extract Tables\n",
    "## 1.3 Extract Section content\n",
    "\n",
    "# 2. Modelling\n",
    "## 2.1 Use Bert Model\n",
    "## 2.2 Use GPT-3 Model \n",
    "## 2.3 Use others\n",
    "\n",
    "# 3. Conclusion \n",
    "\n",
    "#### 4.1.1 Default Bert Model <a class=\"anchor\" id=\"section_4_1_1\"></a>\n",
    "#### 4.1.2 MT5 Amazon fine tuned Bert Model <a class=\"anchor\" id=\"section_4_1_2\"></a>\n",
    "\n",
    "### 4.2 Bart Model <a class=\"anchor\" id=\"section_4_2\"></a>\n",
    "### 4.3 Use GPT-3 Model <a class=\"anchor\" id=\"section_4_3\"></a>\n",
    "### 4.4 Use others <a class=\"anchor\" id=\"section_4_4\"></a>\n",
    "\n",
    "-->"
   ]
  },
  {
   "cell_type": "code",
   "execution_count": 1,
   "id": "1c957fa3",
   "metadata": {},
   "outputs": [],
   "source": [
    "import warnings\n",
    "warnings.filterwarnings('ignore')"
   ]
  },
  {
   "cell_type": "code",
   "execution_count": 91,
   "id": "996aa46c",
   "metadata": {},
   "outputs": [],
   "source": [
    "filename = 'resource/Metals_Mining_Standard_2021.pdf' \n",
    "\n",
    "OUTPUT_FILE_PATH = \"results/summary/Metals_Mining_Standard_2021_Summary.txt\"\n",
    "\n"
   ]
  },
  {
   "cell_type": "code",
   "execution_count": 3,
   "id": "6bd7b795",
   "metadata": {},
   "outputs": [],
   "source": [
    "import pdfplumber\n",
    "import pandas as pd\n",
    "import copy\n",
    "\n",
    "\n",
    "import tensorflow\n",
    "import transformers\n",
    "from transformers import pipeline\n",
    "\n",
    "\n",
    "import openai\n",
    "import wget\n",
    "import pathlib\n",
    "import pdfplumber\n",
    "import numpy as np\n",
    "\n",
    "import collections \n",
    "import datetime as datetime\n",
    "import textwrap\n",
    "\n",
    "\n",
    "from summarizer import Summarizer\n",
    "from summarizer.sbert import SBertSummarizer\n",
    "from transformers import AutoConfig, AutoTokenizer, AutoModel"
   ]
  },
  {
   "cell_type": "code",
   "execution_count": 4,
   "id": "b0743a7e",
   "metadata": {},
   "outputs": [
    {
     "name": "stdout",
     "output_type": "stream",
     "text": [
      "4.19.2\n",
      "2.9.0\n"
     ]
    }
   ],
   "source": [
    "print(transformers.__version__)\n",
    "print(tensorflow.__version__)"
   ]
  },
  {
   "cell_type": "code",
   "execution_count": 5,
   "id": "b2fda2fd",
   "metadata": {},
   "outputs": [],
   "source": [
    "OPEN_AI_ORG=\"org-example-id\"\n",
    "OPEN_AI_API_KEY=\"OPEN-API-KEY\""
   ]
  },
  {
   "cell_type": "markdown",
   "id": "de15a52a",
   "metadata": {},
   "source": [
    "# 1. Read PDF <a class=\"anchor\" id=\"READ_PDF\"></a>"
   ]
  },
  {
   "cell_type": "markdown",
   "id": "2ccf8f45",
   "metadata": {},
   "source": [
    "## 1.1 Extract TOC <a class=\"anchor\" id=\"section_1_1\"></a>"
   ]
  },
  {
   "cell_type": "markdown",
   "id": "2491325e",
   "metadata": {},
   "source": [
    "In this Section TOC is extrced from page 3 and a dictionary is maintained for quick access of content by key."
   ]
  },
  {
   "cell_type": "code",
   "execution_count": 7,
   "id": "21e89111",
   "metadata": {},
   "outputs": [],
   "source": [
    "def text_num_split(item):\n",
    "    for index, letter in enumerate(item, 0):\n",
    "        if letter.isdigit():\n",
    "            return (item[:index],item[index:])"
   ]
  },
  {
   "cell_type": "code",
   "execution_count": 8,
   "id": "8da50f81",
   "metadata": {},
   "outputs": [
    {
     "data": {
      "text/plain": [
       "{'Introduction': {'page_no': '4'},\n",
       " 'Purpose of SASB Standards': {'page_no': '4'},\n",
       " 'Overview of SASB Standards': {'page_no': '4'},\n",
       " 'Use of the Standards': {'page_no': '5'},\n",
       " 'Industry Description': {'page_no': '5'},\n",
       " 'Sustainability Disclosure Topics & Accounting Metrics': {'page_no': '6'},\n",
       " 'Greenhouse Gas Emissions': {'page_no': '9'},\n",
       " 'Air Quality': {'page_no': '13'},\n",
       " 'Energy Management': {'page_no': '15'},\n",
       " 'Water Management': {'page_no': '17'},\n",
       " 'Waste & Hazardous Materials Management': {'page_no': '19'},\n",
       " 'Biodiversity Impacts': {'page_no': '24'},\n",
       " 'Security, Human Rights & Rights of Indigenous Peoples': {'page_no': '29'},\n",
       " 'Community Relations': {'page_no': '34'},\n",
       " 'Labor Relations': {'page_no': '38'},\n",
       " 'Workforce Health & Safety': {'page_no': '40'},\n",
       " 'Business Ethics & Transparency': {'page_no': '42'},\n",
       " 'Tailings Storage Facilities Management': {'page_no': '44'},\n",
       " 'SUSTAINABILITY ACCOUNTING STANDARD | METALS & MINING | ': {'page_no': '3'}}"
      ]
     },
     "execution_count": 8,
     "metadata": {},
     "output_type": "execute_result"
    }
   ],
   "source": [
    "with pdfplumber.open(filename) as pdf:\n",
    "    first_page = pdf.pages[2]\n",
    "    page_string = first_page.extract_text()\n",
    "\n",
    "\n",
    "ls_texts = page_string.replace('.', '').split('\\n')\n",
    "\n",
    "toc_map ={}\n",
    "for i in ls_texts:\n",
    "    elec = text_num_split(i)\n",
    "    if elec:\n",
    "        toc_map[elec[0]] = {'page_no':elec[1]}\n",
    "    \n",
    "toc_map"
   ]
  },
  {
   "cell_type": "markdown",
   "id": "71026152",
   "metadata": {},
   "source": [
    "## 1.2 Extract Table <a class=\"anchor\" id=\"section_1_2\"></a>"
   ]
  },
  {
   "cell_type": "code",
   "execution_count": 9,
   "id": "3f706c3f",
   "metadata": {},
   "outputs": [
    {
     "data": {
      "text/html": [
       "<div>\n",
       "<style scoped>\n",
       "    .dataframe tbody tr th:only-of-type {\n",
       "        vertical-align: middle;\n",
       "    }\n",
       "\n",
       "    .dataframe tbody tr th {\n",
       "        vertical-align: top;\n",
       "    }\n",
       "\n",
       "    .dataframe thead th {\n",
       "        text-align: right;\n",
       "    }\n",
       "</style>\n",
       "<table border=\"1\" class=\"dataframe\">\n",
       "  <thead>\n",
       "    <tr style=\"text-align: right;\">\n",
       "      <th></th>\n",
       "      <th>0</th>\n",
       "      <th>1</th>\n",
       "      <th>2</th>\n",
       "      <th>3</th>\n",
       "      <th>4</th>\n",
       "      <th>5</th>\n",
       "      <th>6</th>\n",
       "      <th>7</th>\n",
       "      <th>8</th>\n",
       "      <th>9</th>\n",
       "      <th>10</th>\n",
       "      <th>11</th>\n",
       "    </tr>\n",
       "  </thead>\n",
       "  <tbody>\n",
       "    <tr>\n",
       "      <th>0</th>\n",
       "      <td>TOPIC</td>\n",
       "      <td>ACCOUNTING METRIC</td>\n",
       "      <td>CATEGORY</td>\n",
       "      <td>UNIT OF\\nMEASURE</td>\n",
       "      <td>CODE</td>\n",
       "      <td>NaN</td>\n",
       "      <td>NaN</td>\n",
       "      <td>NaN</td>\n",
       "      <td>NaN</td>\n",
       "      <td>NaN</td>\n",
       "      <td>NaN</td>\n",
       "      <td>NaN</td>\n",
       "    </tr>\n",
       "    <tr>\n",
       "      <th>1</th>\n",
       "      <td>Greenhouse \\nGas Emissions</td>\n",
       "      <td>Gross global Scope 1 emissions, percentage \\nc...</td>\n",
       "      <td>Quantitative</td>\n",
       "      <td>Metric tons (t) \\nCO₂-e, \\nPercentage (%)</td>\n",
       "      <td>EM-MM-110a.1</td>\n",
       "      <td>NaN</td>\n",
       "      <td>NaN</td>\n",
       "      <td>NaN</td>\n",
       "      <td>NaN</td>\n",
       "      <td>NaN</td>\n",
       "      <td>NaN</td>\n",
       "      <td>NaN</td>\n",
       "    </tr>\n",
       "    <tr>\n",
       "      <th>2</th>\n",
       "      <td>None</td>\n",
       "      <td>Discussion of long-term and short-term \\nstrat...</td>\n",
       "      <td>Discussion and \\nAnalysis</td>\n",
       "      <td>n/a</td>\n",
       "      <td>EM-MM-110a.2</td>\n",
       "      <td>NaN</td>\n",
       "      <td>NaN</td>\n",
       "      <td>NaN</td>\n",
       "      <td>NaN</td>\n",
       "      <td>NaN</td>\n",
       "      <td>NaN</td>\n",
       "      <td>NaN</td>\n",
       "    </tr>\n",
       "    <tr>\n",
       "      <th>3</th>\n",
       "      <td>Air Quality</td>\n",
       "      <td>Air emissions of the following pollutants: (1)...</td>\n",
       "      <td>Quantitative</td>\n",
       "      <td>Metric tons (t)</td>\n",
       "      <td>EM-MM-120a.1</td>\n",
       "      <td>NaN</td>\n",
       "      <td>NaN</td>\n",
       "      <td>NaN</td>\n",
       "      <td>NaN</td>\n",
       "      <td>NaN</td>\n",
       "      <td>NaN</td>\n",
       "      <td>NaN</td>\n",
       "    </tr>\n",
       "    <tr>\n",
       "      <th>4</th>\n",
       "      <td>Energy \\nManagement</td>\n",
       "      <td>(1) Total energy consumed, (2) percentage grid...</td>\n",
       "      <td>Quantitative</td>\n",
       "      <td>Gigajoules (GJ), \\nPercentage (%)</td>\n",
       "      <td>EM-MM-130a.1</td>\n",
       "      <td>NaN</td>\n",
       "      <td>NaN</td>\n",
       "      <td>NaN</td>\n",
       "      <td>NaN</td>\n",
       "      <td>NaN</td>\n",
       "      <td>NaN</td>\n",
       "      <td>NaN</td>\n",
       "    </tr>\n",
       "  </tbody>\n",
       "</table>\n",
       "</div>"
      ],
      "text/plain": [
       "                           0   \\\n",
       "0                       TOPIC   \n",
       "1  Greenhouse \\nGas Emissions   \n",
       "2                        None   \n",
       "3                 Air Quality   \n",
       "4         Energy \\nManagement   \n",
       "\n",
       "                                                  1   \\\n",
       "0                                  ACCOUNTING METRIC   \n",
       "1  Gross global Scope 1 emissions, percentage \\nc...   \n",
       "2  Discussion of long-term and short-term \\nstrat...   \n",
       "3  Air emissions of the following pollutants: (1)...   \n",
       "4  (1) Total energy consumed, (2) percentage grid...   \n",
       "\n",
       "                          2                                          3   \\\n",
       "0                   CATEGORY                           UNIT OF\\nMEASURE   \n",
       "1               Quantitative  Metric tons (t) \\nCO₂-e, \\nPercentage (%)   \n",
       "2  Discussion and \\nAnalysis                                        n/a   \n",
       "3               Quantitative                            Metric tons (t)   \n",
       "4               Quantitative          Gigajoules (GJ), \\nPercentage (%)   \n",
       "\n",
       "             4    5    6    7    8    9    10   11  \n",
       "0          CODE  NaN  NaN  NaN  NaN  NaN  NaN  NaN  \n",
       "1  EM-MM-110a.1  NaN  NaN  NaN  NaN  NaN  NaN  NaN  \n",
       "2  EM-MM-110a.2  NaN  NaN  NaN  NaN  NaN  NaN  NaN  \n",
       "3  EM-MM-120a.1  NaN  NaN  NaN  NaN  NaN  NaN  NaN  \n",
       "4  EM-MM-130a.1  NaN  NaN  NaN  NaN  NaN  NaN  NaN  "
      ]
     },
     "execution_count": 9,
     "metadata": {},
     "output_type": "execute_result"
    }
   ],
   "source": [
    "with pdfplumber.open(filename) as pdf:\n",
    "    dfs = []\n",
    "    table_df = pd.DataFrame()\n",
    "    for page in pdf.pages:\n",
    "        if page.find_tables():\n",
    "            tables = page.find_tables()\n",
    "            t1_content = tables[0].extract(x_tolerance = 5)\n",
    "            \n",
    "            if len(tables) >1:\n",
    "                t2_content = tables[1].extract(x_tolerance = 5)\n",
    "\n",
    "            df_tmp = pd.DataFrame(t1_content)\n",
    "            dfs.append(df_tmp)\n",
    "            \n",
    "\n",
    "table1_df = pd.concat(dfs) # creating table 1\n",
    "table2_df = pd.DataFrame(t2_content) # creating table 2\n",
    "\n",
    "table1_df.head()"
   ]
  },
  {
   "cell_type": "code",
   "execution_count": 10,
   "id": "c1c8859b",
   "metadata": {},
   "outputs": [],
   "source": [
    "\n",
    "# dropping null column, and irrelavent rows.\n",
    "table1_df = table1_df[:-2]\n",
    "table1_df.dropna(how='all', axis=1, inplace=True)\n",
    "\n",
    "# drop duplicates - this removes the duplicate header rows\n",
    "table1_df = table1_df.drop_duplicates()\n",
    "# table1_df.head()"
   ]
  },
  {
   "cell_type": "code",
   "execution_count": 11,
   "id": "dcba283e",
   "metadata": {},
   "outputs": [],
   "source": [
    "# set first row as column names\n",
    "new_header = table1_df.iloc[0] #grab the first row for the header\n",
    "table1_df = table1_df[1:] #take the data less the header row\n",
    "table1_df.columns = new_header"
   ]
  },
  {
   "cell_type": "code",
   "execution_count": 12,
   "id": "80c7899a",
   "metadata": {},
   "outputs": [
    {
     "data": {
      "text/html": [
       "<div>\n",
       "<style scoped>\n",
       "    .dataframe tbody tr th:only-of-type {\n",
       "        vertical-align: middle;\n",
       "    }\n",
       "\n",
       "    .dataframe tbody tr th {\n",
       "        vertical-align: top;\n",
       "    }\n",
       "\n",
       "    .dataframe thead th {\n",
       "        text-align: right;\n",
       "    }\n",
       "</style>\n",
       "<table border=\"1\" class=\"dataframe\">\n",
       "  <thead>\n",
       "    <tr style=\"text-align: right;\">\n",
       "      <th></th>\n",
       "      <th>ACCOUNTING METRIC</th>\n",
       "      <th>CATEGORY</th>\n",
       "      <th>UNIT OF\\nMEASURE</th>\n",
       "      <th>CODE</th>\n",
       "    </tr>\n",
       "    <tr>\n",
       "      <th>TOPIC</th>\n",
       "      <th></th>\n",
       "      <th></th>\n",
       "      <th></th>\n",
       "      <th></th>\n",
       "    </tr>\n",
       "  </thead>\n",
       "  <tbody>\n",
       "    <tr>\n",
       "      <th>Greenhouse \\nGas Emissions</th>\n",
       "      <td>Gross global Scope 1 emissions, percentage \\nc...</td>\n",
       "      <td>Quantitative</td>\n",
       "      <td>Metric tons (t) \\nCO₂-e, \\nPercentage (%)</td>\n",
       "      <td>EM-MM-110a.1</td>\n",
       "    </tr>\n",
       "    <tr>\n",
       "      <th>Greenhouse \\nGas Emissions</th>\n",
       "      <td>Discussion of long-term and short-term \\nstrat...</td>\n",
       "      <td>Discussion and \\nAnalysis</td>\n",
       "      <td>n/a</td>\n",
       "      <td>EM-MM-110a.2</td>\n",
       "    </tr>\n",
       "    <tr>\n",
       "      <th>Air Quality</th>\n",
       "      <td>Air emissions of the following pollutants: (1)...</td>\n",
       "      <td>Quantitative</td>\n",
       "      <td>Metric tons (t)</td>\n",
       "      <td>EM-MM-120a.1</td>\n",
       "    </tr>\n",
       "    <tr>\n",
       "      <th>Energy \\nManagement</th>\n",
       "      <td>(1) Total energy consumed, (2) percentage grid...</td>\n",
       "      <td>Quantitative</td>\n",
       "      <td>Gigajoules (GJ), \\nPercentage (%)</td>\n",
       "      <td>EM-MM-130a.1</td>\n",
       "    </tr>\n",
       "    <tr>\n",
       "      <th>Water \\nManagement</th>\n",
       "      <td>(1) Total fresh water withdrawn, (2) total fre...</td>\n",
       "      <td>Quantitative</td>\n",
       "      <td>Thousand cubic \\nmeters (m³), \\nPercentage (%)</td>\n",
       "      <td>EM-MM-140a.1</td>\n",
       "    </tr>\n",
       "  </tbody>\n",
       "</table>\n",
       "</div>"
      ],
      "text/plain": [
       "0                                                           ACCOUNTING METRIC  \\\n",
       "TOPIC                                                                           \n",
       "Greenhouse \\nGas Emissions  Gross global Scope 1 emissions, percentage \\nc...   \n",
       "Greenhouse \\nGas Emissions  Discussion of long-term and short-term \\nstrat...   \n",
       "Air Quality                 Air emissions of the following pollutants: (1)...   \n",
       "Energy \\nManagement         (1) Total energy consumed, (2) percentage grid...   \n",
       "Water \\nManagement          (1) Total fresh water withdrawn, (2) total fre...   \n",
       "\n",
       "0                                            CATEGORY  \\\n",
       "TOPIC                                                   \n",
       "Greenhouse \\nGas Emissions               Quantitative   \n",
       "Greenhouse \\nGas Emissions  Discussion and \\nAnalysis   \n",
       "Air Quality                              Quantitative   \n",
       "Energy \\nManagement                      Quantitative   \n",
       "Water \\nManagement                       Quantitative   \n",
       "\n",
       "0                                                         UNIT OF\\nMEASURE  \\\n",
       "TOPIC                                                                        \n",
       "Greenhouse \\nGas Emissions       Metric tons (t) \\nCO₂-e, \\nPercentage (%)   \n",
       "Greenhouse \\nGas Emissions                                             n/a   \n",
       "Air Quality                                                Metric tons (t)   \n",
       "Energy \\nManagement                      Gigajoules (GJ), \\nPercentage (%)   \n",
       "Water \\nManagement          Thousand cubic \\nmeters (m³), \\nPercentage (%)   \n",
       "\n",
       "0                                   CODE  \n",
       "TOPIC                                     \n",
       "Greenhouse \\nGas Emissions  EM-MM-110a.1  \n",
       "Greenhouse \\nGas Emissions  EM-MM-110a.2  \n",
       "Air Quality                 EM-MM-120a.1  \n",
       "Energy \\nManagement         EM-MM-130a.1  \n",
       "Water \\nManagement          EM-MM-140a.1  "
      ]
     },
     "execution_count": 12,
     "metadata": {},
     "output_type": "execute_result"
    }
   ],
   "source": [
    "\n",
    "# set TOPIC as index\n",
    "table1_df['TOPIC'].fillna(method='pad', inplace=True)\n",
    "table1_df = table1_df.set_index('TOPIC')\n",
    "\n",
    "table1_df.head()"
   ]
  },
  {
   "cell_type": "code",
   "execution_count": 13,
   "id": "217da941",
   "metadata": {},
   "outputs": [
    {
     "data": {
      "text/html": [
       "<div>\n",
       "<style scoped>\n",
       "    .dataframe tbody tr th:only-of-type {\n",
       "        vertical-align: middle;\n",
       "    }\n",
       "\n",
       "    .dataframe tbody tr th {\n",
       "        vertical-align: top;\n",
       "    }\n",
       "\n",
       "    .dataframe thead th {\n",
       "        text-align: right;\n",
       "    }\n",
       "</style>\n",
       "<table border=\"1\" class=\"dataframe\">\n",
       "  <thead>\n",
       "    <tr style=\"text-align: right;\">\n",
       "      <th></th>\n",
       "      <th>0</th>\n",
       "      <th>1</th>\n",
       "      <th>2</th>\n",
       "      <th>3</th>\n",
       "    </tr>\n",
       "  </thead>\n",
       "  <tbody>\n",
       "    <tr>\n",
       "      <th>0</th>\n",
       "      <td>ACTIVITY METRIC</td>\n",
       "      <td>CATEGORY</td>\n",
       "      <td>UNIT OF\\nMEASURE</td>\n",
       "      <td>CODE</td>\n",
       "    </tr>\n",
       "    <tr>\n",
       "      <th>1</th>\n",
       "      <td>Production of (1) metal ores and (2) finished ...</td>\n",
       "      <td>Quantitative</td>\n",
       "      <td>Metric tons (t) \\nsaleable</td>\n",
       "      <td>EM-MM-000.A</td>\n",
       "    </tr>\n",
       "    <tr>\n",
       "      <th>2</th>\n",
       "      <td>Total number of employees, percentage contractors</td>\n",
       "      <td>Quantitative</td>\n",
       "      <td>Number, \\nPercentage (%)</td>\n",
       "      <td>EM-MM-000.B</td>\n",
       "    </tr>\n",
       "  </tbody>\n",
       "</table>\n",
       "</div>"
      ],
      "text/plain": [
       "                                                   0             1  \\\n",
       "0                                    ACTIVITY METRIC      CATEGORY   \n",
       "1  Production of (1) metal ores and (2) finished ...  Quantitative   \n",
       "2  Total number of employees, percentage contractors  Quantitative   \n",
       "\n",
       "                            2            3  \n",
       "0            UNIT OF\\nMEASURE         CODE  \n",
       "1  Metric tons (t) \\nsaleable  EM-MM-000.A  \n",
       "2    Number, \\nPercentage (%)  EM-MM-000.B  "
      ]
     },
     "execution_count": 13,
     "metadata": {},
     "output_type": "execute_result"
    }
   ],
   "source": [
    "table2_df"
   ]
  },
  {
   "cell_type": "markdown",
   "id": "312f5a0a",
   "metadata": {},
   "source": [
    "## 1.3 Extract Section Content <a class=\"anchor\" id=\"section_1_3\"></a>"
   ]
  },
  {
   "cell_type": "markdown",
   "id": "759d6c0d",
   "metadata": {},
   "source": [
    "In this section, The PDF file is parsed, the content, page_no, and section, sub-section hierarchy is formed for each of the section and appended to the list\n",
    " \n",
    "```json \n",
    "[\n",
    "    {'title': 'name of the title',\n",
    "    'page_no': 0,\n",
    "    'child': [],\n",
    "    'content': ''\n",
    "    },\n",
    "]\n",
    "```\n"
   ]
  },
  {
   "cell_type": "code",
   "execution_count": 14,
   "id": "cdfaef4f",
   "metadata": {},
   "outputs": [],
   "source": [
    "def getPageNo(title, level, parent=None):\n",
    "    \n",
    "    if title in toc_map:\n",
    "        toc_map[title]['level'] = level\n",
    "        if parent:\n",
    "            toc_map[title]['parent'] = parent\n",
    "        return toc_map[title]['page_no']\n",
    "    return -1\n",
    "    \n",
    "    "
   ]
  },
  {
   "cell_type": "markdown",
   "id": "ab61c66d",
   "metadata": {},
   "source": [
    "Creating the Structure of the content map"
   ]
  },
  {
   "cell_type": "code",
   "execution_count": 15,
   "id": "874ae0bc-1ee6-45ec-a904-a853d995f81f",
   "metadata": {},
   "outputs": [],
   "source": [
    "from pdfminer.pdfparser import PDFParser\n",
    "from pdfminer.pdfdocument import PDFDocument\n",
    "from pdfminer.pdfpage import PDFPage\n",
    "\n",
    "# add node for each section\n",
    "# create section hierarchy\n",
    "# in node add title, pageno, reference for child\n",
    "def parse(filename, maxlevel, page_n=0):\n",
    "    fp = open(filename, 'rb')\n",
    "    parser = PDFParser(fp)\n",
    "    doc = PDFDocument(parser)\n",
    "\n",
    "    tocList =[]\n",
    "    outlines = doc.get_outlines()\n",
    "    prev =0\n",
    "    for (level, title, dest, a, se) in outlines:\n",
    "        if level <= maxlevel:\n",
    "            \n",
    "            if level == 1:\n",
    "                page_no = getPageNo(title, level)\n",
    "                node = {'title': title, 'page_no':page_no, 'child':[], 'content':\"\"}\n",
    "                tocList.append(node)\n",
    "        \n",
    "            else:\n",
    "                page_no = getPageNo(title, level, tocList[-1]['title'])\n",
    "                node = {'title': title, 'page_no':page_no, 'child':[], 'content':\"\", 'parent': tocList[-1]['title']}\n",
    "                tocList[-1]['child'].append(node)\n",
    "    \n",
    "    return tocList"
   ]
  },
  {
   "cell_type": "code",
   "execution_count": 16,
   "id": "47f21fe9",
   "metadata": {
    "scrolled": true
   },
   "outputs": [
    {
     "data": {
      "text/plain": [
       "[{'title': 'Metals & Mining', 'page_no': -1, 'child': [], 'content': ''},\n",
       " {'title': 'About the Value Reporting Foundation',\n",
       "  'page_no': -1,\n",
       "  'child': [],\n",
       "  'content': ''},\n",
       " {'title': 'Table of Contents', 'page_no': -1, 'child': [], 'content': ''},\n",
       " {'title': 'Introduction',\n",
       "  'page_no': '4',\n",
       "  'child': [{'title': 'Purpose of SASB Standards',\n",
       "    'page_no': '4',\n",
       "    'child': [],\n",
       "    'content': '',\n",
       "    'parent': 'Introduction'},\n",
       "   {'title': 'Overview of SASB Standards',\n",
       "    'page_no': '4',\n",
       "    'child': [],\n",
       "    'content': '',\n",
       "    'parent': 'Introduction'},\n",
       "   {'title': 'Use of the Standards',\n",
       "    'page_no': '5',\n",
       "    'child': [],\n",
       "    'content': '',\n",
       "    'parent': 'Introduction'},\n",
       "   {'title': 'Industry Description',\n",
       "    'page_no': '5',\n",
       "    'child': [],\n",
       "    'content': '',\n",
       "    'parent': 'Introduction'}],\n",
       "  'content': ''},\n",
       " {'title': 'Sustainability Disclosure Topics & Accounting Metrics',\n",
       "  'page_no': '6',\n",
       "  'child': [{'title': 'Greenhouse Gas Emissions',\n",
       "    'page_no': '9',\n",
       "    'child': [],\n",
       "    'content': '',\n",
       "    'parent': 'Sustainability Disclosure Topics & Accounting Metrics'},\n",
       "   {'title': 'Air Quality',\n",
       "    'page_no': '13',\n",
       "    'child': [],\n",
       "    'content': '',\n",
       "    'parent': 'Sustainability Disclosure Topics & Accounting Metrics'},\n",
       "   {'title': 'Energy Management',\n",
       "    'page_no': '15',\n",
       "    'child': [],\n",
       "    'content': '',\n",
       "    'parent': 'Sustainability Disclosure Topics & Accounting Metrics'},\n",
       "   {'title': 'Water Management',\n",
       "    'page_no': '17',\n",
       "    'child': [],\n",
       "    'content': '',\n",
       "    'parent': 'Sustainability Disclosure Topics & Accounting Metrics'},\n",
       "   {'title': 'Waste & Hazardous Materials Management',\n",
       "    'page_no': '19',\n",
       "    'child': [],\n",
       "    'content': '',\n",
       "    'parent': 'Sustainability Disclosure Topics & Accounting Metrics'},\n",
       "   {'title': 'Biodiversity Impacts',\n",
       "    'page_no': '24',\n",
       "    'child': [],\n",
       "    'content': '',\n",
       "    'parent': 'Sustainability Disclosure Topics & Accounting Metrics'},\n",
       "   {'title': 'Security, Human Rights & Rights of Indigenous Peoples',\n",
       "    'page_no': '29',\n",
       "    'child': [],\n",
       "    'content': '',\n",
       "    'parent': 'Sustainability Disclosure Topics & Accounting Metrics'},\n",
       "   {'title': 'Community Relations',\n",
       "    'page_no': '34',\n",
       "    'child': [],\n",
       "    'content': '',\n",
       "    'parent': 'Sustainability Disclosure Topics & Accounting Metrics'},\n",
       "   {'title': 'Labor Relations',\n",
       "    'page_no': '38',\n",
       "    'child': [],\n",
       "    'content': '',\n",
       "    'parent': 'Sustainability Disclosure Topics & Accounting Metrics'},\n",
       "   {'title': 'Workforce Health & Safety',\n",
       "    'page_no': '40',\n",
       "    'child': [],\n",
       "    'content': '',\n",
       "    'parent': 'Sustainability Disclosure Topics & Accounting Metrics'},\n",
       "   {'title': 'Business Ethics & Transparency',\n",
       "    'page_no': '42',\n",
       "    'child': [],\n",
       "    'content': '',\n",
       "    'parent': 'Sustainability Disclosure Topics & Accounting Metrics'},\n",
       "   {'title': 'Tailings Storage Facilities Management',\n",
       "    'page_no': '44',\n",
       "    'child': [],\n",
       "    'content': '',\n",
       "    'parent': 'Sustainability Disclosure Topics & Accounting Metrics'}],\n",
       "  'content': ''}]"
      ]
     },
     "execution_count": 16,
     "metadata": {},
     "output_type": "execute_result"
    }
   ],
   "source": [
    "tocList=parse(filename,2)\n",
    "tocList"
   ]
  },
  {
   "cell_type": "code",
   "execution_count": 17,
   "id": "36a9d291",
   "metadata": {},
   "outputs": [
    {
     "name": "stdout",
     "output_type": "stream",
     "text": [
      "{'page_no': '4', 'level': 1}\n",
      "{'page_no': '4', 'level': 2, 'parent': 'Introduction'}\n"
     ]
    }
   ],
   "source": [
    "print(toc_map['Introduction'])\n",
    "print(toc_map['Purpose of SASB Standards'])"
   ]
  },
  {
   "cell_type": "code",
   "execution_count": 18,
   "id": "b7f9955b",
   "metadata": {},
   "outputs": [
    {
     "name": "stdout",
     "output_type": "stream",
     "text": [
      "{'page_no': '4', 'level': 1, 'content': '', 'total_content_length': 0}\n",
      "{'page_no': '4', 'level': 2, 'parent': 'Introduction', 'content': '', 'total_content_length': 0}\n"
     ]
    }
   ],
   "source": [
    "\n",
    "content_map = copy.deepcopy(toc_map)\n",
    "\n",
    "for k, v in content_map.items():\n",
    "    v['content'] = \"\"\n",
    "    v['total_content_length'] =0\n",
    "print(content_map['Introduction'])\n",
    "print(content_map['Purpose of SASB Standards'])"
   ]
  },
  {
   "cell_type": "markdown",
   "id": "2775f8be",
   "metadata": {},
   "source": [
    "**The PDF data is parsed, removed whitecaharacters, and according to the section, content map is populated.**"
   ]
  },
  {
   "cell_type": "code",
   "execution_count": 19,
   "id": "73da5c07",
   "metadata": {},
   "outputs": [],
   "source": [
    "\n",
    "# create section and populate with content\n",
    "with pdfplumber.open(filename) as pdf:\n",
    "\n",
    "    pages = pdf.pages\n",
    "    \n",
    "    cur_section = None\n",
    "    \n",
    "    for i in range(3, len(pages)): # extract texts from page 3\n",
    "        cur_page = pages[i]\n",
    "        extracted_text = cur_page.extract_text()\n",
    "        # clean the text and create a list by using string separator '\\n'\n",
    "        cleaned_texts_list = [x.strip() for x in extracted_text.split('\\n')]\n",
    "        \n",
    "        # get the cur section begining, and add content till new section is reached.\n",
    "        for text in cleaned_texts_list:\n",
    "            if text in toc_map:                \n",
    "                # track the node, and change to current\n",
    "                cur_section = content_map[text]\n",
    "            \n",
    "            elif cur_section:\n",
    "                cur_section['content'] += text\n",
    "                \n"
   ]
  },
  {
   "cell_type": "code",
   "execution_count": 20,
   "id": "e66eddfc",
   "metadata": {},
   "outputs": [
    {
     "name": "stdout",
     "output_type": "stream",
     "text": [
      "{'page_no': '4', 'level': 1, 'content': '', 'total_content_length': 0}\n",
      "{'page_no': '4', 'level': 2, 'parent': 'Introduction', 'content': 'The use of the term “sustainability” in the SASB Standards refers to corporate activities that maintain or enhance theability of the company to create value over the long term. Sustainability accounting reflects the governance andmanagement of a company’s environmental and social impacts arising from production of goods and services, as well asits governance and management of the environmental and social capitals necessary to create long-term value. The SASBStandards also refer to sustainability as “ESG” (environmental, social, and governance), though traditional corporategovernance issues such as board composition are not included within the scope of the SASB Standards.SASB Standards are designed to identify a minimum set of sustainability issues most likely to impact the operatingperformance or financial condition of the typical company in an industry, regardless of location. SASB Standards aredesigned to enable communications on corporate performance on industry-level sustainability issues in a cost-effectiveand decision-useful manner using existing disclosure and reporting mechanisms.Businesses can use the SASB Standards to better identify, manage, and communicate to investors sustainabilityinformation that is financially material. Use of the Standards can benefit businesses by improving transparency, riskmanagement, and performance. SASB Standards can help investors by encouraging reporting that is comparable,consistent, and financially material, thereby enabling investors to make better investment and voting decisions.', 'total_content_length': 0}\n"
     ]
    }
   ],
   "source": [
    "# verifying the content in the content map\n",
    "\n",
    "print(content_map['Introduction'])\n",
    "print(content_map['Purpose of SASB Standards'])"
   ]
  },
  {
   "cell_type": "markdown",
   "id": "335afa51",
   "metadata": {},
   "source": [
    "common function for saving file in excel format."
   ]
  },
  {
   "cell_type": "code",
   "execution_count": 21,
   "id": "ec3f35ba",
   "metadata": {},
   "outputs": [],
   "source": [
    "def saveInExcel(dict1, filename=\"Excel\", debug=False):\n",
    "    \n",
    "    today = datetime.datetime.now()\n",
    "\n",
    "    path = \"results/model_evaluation/\"+ today.strftime(\"%d%b/\")\n",
    "    if debug:\n",
    "        path += \"debug/\" \n",
    "    fname = path + filename + \"_\"+ today.strftime('%m_%d_%Y_%H_%M_%S') \n",
    "    \n",
    "    df = pd.DataFrame.from_dict(dict1, orient='index') # convert dict to dataframe\n",
    "\n",
    "    df.to_csv(fname+\".csv\") #\n",
    "\n",
    "    df.to_excel(fname+\".xlsx\")"
   ]
  },
  {
   "cell_type": "code",
   "execution_count": 22,
   "id": "e529a90a",
   "metadata": {
    "scrolled": true
   },
   "outputs": [],
   "source": [
    "saveInExcel(toc_map, \"toc_before_modelling\")"
   ]
  },
  {
   "cell_type": "code",
   "execution_count": 23,
   "id": "6f739076",
   "metadata": {},
   "outputs": [],
   "source": [
    "saveInExcel(content_map, \"content_map_before_modelling\")"
   ]
  },
  {
   "cell_type": "code",
   "execution_count": null,
   "id": "36887a77",
   "metadata": {},
   "outputs": [],
   "source": []
  },
  {
   "cell_type": "markdown",
   "id": "25676c97",
   "metadata": {},
   "source": [
    "# 2. Model Assessment <a class=\"anchor\" id=\"Summary_of_Models\"></a>\n"
   ]
  },
  {
   "cell_type": "markdown",
   "id": "c4d05968",
   "metadata": {},
   "source": [
    "Assess each of the model with first pargraph, predict it and it to the model summary results list for comparison\n",
    "```json\n",
    " [( model-id, key-of-summary, summary_generated)]\n",
    "```"
   ]
  },
  {
   "cell_type": "markdown",
   "id": "1d2f95ff",
   "metadata": {},
   "source": [
    "1. summary by section \n",
    "\n",
    "2. include subsection into parent and summarize"
   ]
  },
  {
   "cell_type": "code",
   "execution_count": 24,
   "id": "a67efed3",
   "metadata": {},
   "outputs": [],
   "source": [
    "model_summary_results = [] "
   ]
  },
  {
   "cell_type": "code",
   "execution_count": 25,
   "id": "864c0799",
   "metadata": {},
   "outputs": [],
   "source": [
    "def saveInResultsList(m_content_map, p_name, p_cols, model_id):\n",
    "    for k,v in m_content_map[p_name].items():\n",
    "\n",
    "        if k in p_cols[p_name]:\n",
    "            name = p_name + \" : \" + k\n",
    "            model_summary_results.append((model_id, name, v))"
   ]
  },
  {
   "cell_type": "markdown",
   "id": "0b14b033",
   "metadata": {},
   "source": [
    "**create a parent content by concatenating all the child for predicting parent section summary.**"
   ]
  },
  {
   "cell_type": "code",
   "execution_count": 26,
   "id": "821530c8",
   "metadata": {},
   "outputs": [],
   "source": [
    "\n",
    "def create_parent_content_including_sub_section(content_map):\n",
    "    b_content_map = copy.deepcopy(content_map) # creating a copy of the map for adding summarized content\n",
    "\n",
    "    # create a parent content by concatenating all the child\n",
    "    for k, v in content_map.items():\n",
    "        if v['content'] !=\"\" and v['level'] >1 and v['parent']:\n",
    "            new_col_key = 'content'\n",
    "            \n",
    "            parent_key = v['parent']\n",
    "            parent_content = b_content_map[parent_key]['content']\n",
    "            child_content = v['content']\n",
    "            \n",
    "            if new_col_key in b_content_map[parent_key]:\n",
    "                b_content_map[parent_key][new_col_key] += child_content\n",
    "            else:\n",
    "                b_content_map[parent_key][new_col_key] = parent_content + child_content\n",
    "    return b_content_map\n",
    "                "
   ]
  },
  {
   "cell_type": "code",
   "execution_count": 27,
   "id": "7878c563",
   "metadata": {},
   "outputs": [],
   "source": [
    "def cleanup_content_map(a_content_map):\n",
    "        # clean up the parent content            \n",
    "    for k, v in a_content_map.items():\n",
    "        \n",
    "        if v['content'] !=\"\" and v['level'] >1 and v['parent']:\n",
    "            new_col_key = 'content'\n",
    "            parent_key = v['parent']\n",
    "            \n",
    "            removed_value = a_content_map[parent_key].pop(new_col_key, 'No Key found')"
   ]
  },
  {
   "cell_type": "markdown",
   "id": "0421b65b",
   "metadata": {},
   "source": [
    "### **Common method for summarizing transformer model**"
   ]
  },
  {
   "cell_type": "code",
   "execution_count": 28,
   "id": "fbf4a7e0",
   "metadata": {},
   "outputs": [],
   "source": [
    "def summarizeModel(name, b_content_map, classifier, debug=False, max_length_list=[150]):\n",
    "    \n",
    "    a_content_map = copy.deepcopy(b_content_map)\n",
    "        \n",
    "    new_colmns = collections.defaultdict(list) \n",
    "    debug_cnt =0\n",
    "    for k, v in b_content_map.items():\n",
    "        \n",
    "        if v['content'] !=\"\":\n",
    "            length = len(v['content'])\n",
    "            a_content_map[k]['total_content_length'] = length\n",
    "\n",
    "            if length > 10:\n",
    "                \n",
    "                # for each of the max lengths generate summary, add it as a new key-val in the dictionary\n",
    "                for m_length in max_length_list:\n",
    "                    col_name = name+\"_summary_\"+ str(m_length)\n",
    "                    \n",
    "                    summary_m_length = classifier_default_t5_small(v['content'], max_length=m_length, min_length=10, do_sample=False)\n",
    "                    a_content_map[k][col_name] = summary_m_length[0]['summary_text'].strip()\n",
    "                    new_colmns[k].append(col_name)\n",
    "\n",
    "                if debug:\n",
    "                    debug_cnt +=1\n",
    "                    if debug_cnt >1:\n",
    "                        break\n",
    "    \n",
    "    cleanup_content_map(a_content_map)\n",
    "            \n",
    "    return a_content_map, new_colmns\n"
   ]
  },
  {
   "cell_type": "markdown",
   "id": "bcacdd4d",
   "metadata": {},
   "source": [
    "### Sample content for processing summary model prediction"
   ]
  },
  {
   "cell_type": "code",
   "execution_count": 29,
   "id": "7c8ef197",
   "metadata": {},
   "outputs": [],
   "source": [
    "\n",
    "text_content_map = create_parent_content_including_sub_section(content_map)\n",
    "ITRODUCTION = text_content_map['Introduction']['content']\n",
    "# ITRODUCTION"
   ]
  },
  {
   "cell_type": "code",
   "execution_count": 30,
   "id": "0a9e12d8",
   "metadata": {},
   "outputs": [],
   "source": [
    "ARTICLE = text_content_map['Purpose of SASB Standards']['content']"
   ]
  },
  {
   "cell_type": "code",
   "execution_count": 31,
   "id": "fd334aa1",
   "metadata": {
    "scrolled": true
   },
   "outputs": [
    {
     "data": {
      "text/plain": [
       "dict_keys(['Introduction', 'Purpose of SASB Standards', 'Overview of SASB Standards', 'Use of the Standards', 'Industry Description', 'Sustainability Disclosure Topics & Accounting Metrics', 'Greenhouse Gas Emissions', 'Air Quality', 'Energy Management', 'Water Management', 'Waste & Hazardous Materials Management', 'Biodiversity Impacts', 'Security, Human Rights & Rights of Indigenous Peoples', 'Community Relations', 'Labor Relations', 'Workforce Health & Safety', 'Business Ethics & Transparency', 'Tailings Storage Facilities Management', 'SUSTAINABILITY ACCOUNTING STANDARD | METALS & MINING | '])"
      ]
     },
     "execution_count": 31,
     "metadata": {},
     "output_type": "execute_result"
    }
   ],
   "source": [
    "text_content_map.keys()"
   ]
  },
  {
   "cell_type": "markdown",
   "id": "9b89a231",
   "metadata": {},
   "source": [
    "list of summary length for assesing for assesing model performance"
   ]
  },
  {
   "cell_type": "code",
   "execution_count": 32,
   "id": "520ce2f7",
   "metadata": {},
   "outputs": [],
   "source": [
    "max_summary_lengths = [50,100,150,200,250]"
   ]
  },
  {
   "cell_type": "markdown",
   "id": "396258a3",
   "metadata": {},
   "source": [
    "## 2.1 Use Bert Model <a class=\"anchor\" id=\"section_2_1\"></a>"
   ]
  },
  {
   "cell_type": "markdown",
   "id": "5d61a598",
   "metadata": {},
   "source": [
    "### 2.1.1 T5 small Bert Model <a class=\"anchor\" id=\"section_2_1_1\"></a>"
   ]
  },
  {
   "cell_type": "code",
   "execution_count": 33,
   "id": "d86126ff",
   "metadata": {},
   "outputs": [],
   "source": [
    "\n",
    "t5_model_id = \"t5-small\"\n",
    "classifier_default_t5_small = pipeline(\"summarization\", model=t5_model_id)"
   ]
  },
  {
   "cell_type": "code",
   "execution_count": 34,
   "id": "b9538206",
   "metadata": {},
   "outputs": [
    {
     "name": "stdout",
     "output_type": "stream",
     "text": [
      "[{'summary_text': 'the term \"sustainability\" in the SASB Standards refers to corporate activities that maintain or enhance the company\\'s ability to create value over the long term . the SASBStandards also refer to sustainability as \"ESG\"'}]\n"
     ]
    }
   ],
   "source": [
    "print(classifier_default_t5_small(ARTICLE, max_length=130, min_length=10, do_sample=False))"
   ]
  },
  {
   "cell_type": "code",
   "execution_count": 35,
   "id": "839be832",
   "metadata": {},
   "outputs": [
    {
     "name": "stderr",
     "output_type": "stream",
     "text": [
      "Token indices sequence length is longer than the specified maximum sequence length for this model (2671 > 512). Running this sequence through the model will result in indexing errors\n"
     ]
    },
    {
     "name": "stdout",
     "output_type": "stream",
     "text": [
      "defaultdict(<class 'list'>, {'Introduction': ['default_t5_summary_50', 'default_t5_summary_100', 'default_t5_summary_150', 'default_t5_summary_200', 'default_t5_summary_250'], 'Purpose of SASB Standards': ['default_t5_summary_50', 'default_t5_summary_100', 'default_t5_summary_150', 'default_t5_summary_200', 'default_t5_summary_250']})\n"
     ]
    }
   ],
   "source": [
    "\n",
    "t5_content_map, t5_new_colmns = summarizeModel(\"default_t5\", text_content_map, classifier_default_t5_small, debug=True, max_length_list=max_summary_lengths)\n",
    "print(t5_new_colmns)\n"
   ]
  },
  {
   "cell_type": "code",
   "execution_count": 36,
   "id": "08972cdd",
   "metadata": {},
   "outputs": [],
   "source": [
    "saveInResultsList(t5_content_map, 'Introduction', {'Introduction':['default_t5_summary_150']}, \"t5-small\")"
   ]
  },
  {
   "cell_type": "code",
   "execution_count": 37,
   "id": "13ccfeb6",
   "metadata": {},
   "outputs": [
    {
     "data": {
      "text/plain": [
       "{'page_no': '4',\n",
       " 'level': 1,\n",
       " 'total_content_length': 10968,\n",
       " 'default_t5_summary_50': 'SASB Standards are designed to identify a minimum set of sustainability issues most likely to impact the operating performance or financial condition of the typical company in an industry, regardless of location . each accounting metric is accompanied by a technical protocol',\n",
       " 'default_t5_summary_100': 'SASB Standards are designed to identify a minimum set of sustainability issues most likely to impact the operating performance or financial condition of the typical company in an industry, regardless of location . each accounting metric is accompanied by a technical protocol that provides guidance for third-party assurance .',\n",
       " 'default_t5_summary_150': 'SASB Standards are designed to identify a minimum set of sustainability issues most likely to impact the operating performance or financial condition of the typical company in an industry, regardless of location . each accounting metric is accompanied by a technical protocol that provides guidance for third-party assurance .',\n",
       " 'default_t5_summary_200': 'SASB Standards are designed to identify a minimum set of sustainability issues most likely to impact the operating performance or financial condition of the typical company in an industry, regardless of location . each accounting metric is accompanied by a technical protocol that provides guidance for third-party assurance .',\n",
       " 'default_t5_summary_250': 'SASB Standards are designed to identify a minimum set of sustainability issues most likely to impact the operating performance or financial condition of the typical company in an industry, regardless of location . each accounting metric is accompanied by a technical protocol that provides guidance for third-party assurance .'}"
      ]
     },
     "execution_count": 37,
     "metadata": {},
     "output_type": "execute_result"
    }
   ],
   "source": [
    "t5_content_map['Introduction']"
   ]
  },
  {
   "cell_type": "code",
   "execution_count": 38,
   "id": "96268ea2",
   "metadata": {},
   "outputs": [
    {
     "data": {
      "text/plain": [
       "{'page_no': '4',\n",
       " 'level': 2,\n",
       " 'parent': 'Introduction',\n",
       " 'content': 'The use of the term “sustainability” in the SASB Standards refers to corporate activities that maintain or enhance theability of the company to create value over the long term. Sustainability accounting reflects the governance andmanagement of a company’s environmental and social impacts arising from production of goods and services, as well asits governance and management of the environmental and social capitals necessary to create long-term value. The SASBStandards also refer to sustainability as “ESG” (environmental, social, and governance), though traditional corporategovernance issues such as board composition are not included within the scope of the SASB Standards.SASB Standards are designed to identify a minimum set of sustainability issues most likely to impact the operatingperformance or financial condition of the typical company in an industry, regardless of location. SASB Standards aredesigned to enable communications on corporate performance on industry-level sustainability issues in a cost-effectiveand decision-useful manner using existing disclosure and reporting mechanisms.Businesses can use the SASB Standards to better identify, manage, and communicate to investors sustainabilityinformation that is financially material. Use of the Standards can benefit businesses by improving transparency, riskmanagement, and performance. SASB Standards can help investors by encouraging reporting that is comparable,consistent, and financially material, thereby enabling investors to make better investment and voting decisions.',\n",
       " 'total_content_length': 1550,\n",
       " 'default_t5_summary_50': 'the term \"sustainability\" in the SASB Standards refers to corporate activities that maintain or enhance the company\\'s ability to create value over the long term . the SASBStandards also refer to sustainability as \"',\n",
       " 'default_t5_summary_100': 'the term \"sustainability\" in the SASB Standards refers to corporate activities that maintain or enhance the company\\'s ability to create value over the long term . the SASBStandards also refer to sustainability as \"ESG\"',\n",
       " 'default_t5_summary_150': 'the term \"sustainability\" in the SASB Standards refers to corporate activities that maintain or enhance the company\\'s ability to create value over the long term . the SASBStandards also refer to sustainability as \"ESG\"',\n",
       " 'default_t5_summary_200': 'the term \"sustainability\" in the SASB Standards refers to corporate activities that maintain or enhance the company\\'s ability to create value over the long term . the SASBStandards also refer to sustainability as \"ESG\"',\n",
       " 'default_t5_summary_250': 'the term \"sustainability\" in the SASB Standards refers to corporate activities that maintain or enhance the company\\'s ability to create value over the long term . the SASBStandards also refer to sustainability as \"ESG\"'}"
      ]
     },
     "execution_count": 38,
     "metadata": {},
     "output_type": "execute_result"
    }
   ],
   "source": [
    "saveInResultsList(t5_content_map, 'Purpose of SASB Standards', {'Purpose of SASB Standards':['default_t5_summary_150']}, \"t5-small\")\n",
    "t5_content_map['Purpose of SASB Standards']"
   ]
  },
  {
   "cell_type": "code",
   "execution_count": 39,
   "id": "e6161d61",
   "metadata": {},
   "outputs": [],
   "source": [
    "saveInExcel(t5_content_map, \"content_map_default_t5_modelling\", True)"
   ]
  },
  {
   "cell_type": "markdown",
   "id": "ae02278e",
   "metadata": {},
   "source": [
    "**from above two example summary It is evident that after max_length 150 the summary generation remains constant, hencehorth keeping max length as 150**"
   ]
  },
  {
   "cell_type": "code",
   "execution_count": null,
   "id": "d582d9bc",
   "metadata": {},
   "outputs": [],
   "source": []
  },
  {
   "cell_type": "markdown",
   "id": "e2b3414c",
   "metadata": {},
   "source": [
    "### 2.1.2 MT5 Amazon fine tuned Bert Model <a class=\"anchor\" id=\"section_2_1_2\"></a>"
   ]
  },
  {
   "cell_type": "code",
   "execution_count": 40,
   "id": "a49290ad",
   "metadata": {},
   "outputs": [],
   "source": [
    "hub_model_id = \"huggingface-course/mt5-small-finetuned-amazon-en-es\"\n",
    "summarizer_amazon_en_es = pipeline(\"summarization\", model=hub_model_id)"
   ]
  },
  {
   "cell_type": "code",
   "execution_count": 41,
   "id": "4e464876",
   "metadata": {},
   "outputs": [],
   "source": [
    "summarizer_amazon_en_es_map, amazon_new_colmns = summarizeModel(\"summarizer_amazon_en_es\", text_content_map, summarizer_amazon_en_es, debug=True)\n"
   ]
  },
  {
   "cell_type": "code",
   "execution_count": 42,
   "id": "40bd1ddc",
   "metadata": {},
   "outputs": [
    {
     "data": {
      "text/plain": [
       "{'page_no': '4',\n",
       " 'level': 1,\n",
       " 'total_content_length': 10968,\n",
       " 'summarizer_amazon_en_es_summary_150': 'SASB Standards are designed to identify a minimum set of sustainability issues most likely to impact the operating performance or financial condition of the typical company in an industry, regardless of location . each accounting metric is accompanied by a technical protocol that provides guidance for third-party assurance .'}"
      ]
     },
     "execution_count": 42,
     "metadata": {},
     "output_type": "execute_result"
    }
   ],
   "source": [
    "saveInResultsList(summarizer_amazon_en_es_map, 'Introduction', amazon_new_colmns, \"mt5-small-finetuned-amazon-en-es\")\n",
    "summarizer_amazon_en_es_map['Introduction']"
   ]
  },
  {
   "cell_type": "code",
   "execution_count": 43,
   "id": "7e093133",
   "metadata": {},
   "outputs": [
    {
     "data": {
      "text/plain": [
       "{'page_no': '4',\n",
       " 'level': 2,\n",
       " 'parent': 'Introduction',\n",
       " 'content': 'The use of the term “sustainability” in the SASB Standards refers to corporate activities that maintain or enhance theability of the company to create value over the long term. Sustainability accounting reflects the governance andmanagement of a company’s environmental and social impacts arising from production of goods and services, as well asits governance and management of the environmental and social capitals necessary to create long-term value. The SASBStandards also refer to sustainability as “ESG” (environmental, social, and governance), though traditional corporategovernance issues such as board composition are not included within the scope of the SASB Standards.SASB Standards are designed to identify a minimum set of sustainability issues most likely to impact the operatingperformance or financial condition of the typical company in an industry, regardless of location. SASB Standards aredesigned to enable communications on corporate performance on industry-level sustainability issues in a cost-effectiveand decision-useful manner using existing disclosure and reporting mechanisms.Businesses can use the SASB Standards to better identify, manage, and communicate to investors sustainabilityinformation that is financially material. Use of the Standards can benefit businesses by improving transparency, riskmanagement, and performance. SASB Standards can help investors by encouraging reporting that is comparable,consistent, and financially material, thereby enabling investors to make better investment and voting decisions.',\n",
       " 'total_content_length': 1550,\n",
       " 'summarizer_amazon_en_es_summary_150': 'the term \"sustainability\" in the SASB Standards refers to corporate activities that maintain or enhance the company\\'s ability to create value over the long term . the SASBStandards also refer to sustainability as \"ESG\"'}"
      ]
     },
     "execution_count": 43,
     "metadata": {},
     "output_type": "execute_result"
    }
   ],
   "source": [
    "saveInResultsList(summarizer_amazon_en_es_map, 'Purpose of SASB Standards', amazon_new_colmns, \"mt5-small-finetuned-amazon-en-es\")\n",
    "summarizer_amazon_en_es_map['Purpose of SASB Standards']"
   ]
  },
  {
   "cell_type": "code",
   "execution_count": 44,
   "id": "954320cf",
   "metadata": {},
   "outputs": [],
   "source": [
    "saveInExcel(summarizer_amazon_en_es_map, \"content_map_summarizer_amazon_en_es_modelling\", True)"
   ]
  },
  {
   "cell_type": "code",
   "execution_count": null,
   "id": "e9681e71",
   "metadata": {},
   "outputs": [],
   "source": []
  },
  {
   "cell_type": "markdown",
   "id": "fced2a50",
   "metadata": {},
   "source": [
    "## 2.2 Bart Model <a class=\"anchor\" id=\"section_2_2\"></a>"
   ]
  },
  {
   "cell_type": "markdown",
   "id": "38afae09",
   "metadata": {},
   "source": [
    "### 2.2.1 Default Bart Model <a class=\"anchor\" id=\"section_2_2_1\"></a>\n"
   ]
  },
  {
   "cell_type": "code",
   "execution_count": 45,
   "id": "2327ef9c",
   "metadata": {},
   "outputs": [],
   "source": [
    "distilbart_model_id = \"sshleifer/distilbart-cnn-12-6\"\n",
    "\n",
    "classifier_default_distilbart = pipeline(\"summarization\", model=distilbart_model_id)"
   ]
  },
  {
   "cell_type": "code",
   "execution_count": 46,
   "id": "69c3949a",
   "metadata": {},
   "outputs": [
    {
     "name": "stdout",
     "output_type": "stream",
     "text": [
      "[{'summary_text': ' Sustainability accounting reflects the governance and management of a company’s environmental and social impacts arising from production of goods and services . The use of the SASB Standards refers to corporate activities that maintain or enhance theability of the company to create value over the long term .'}]\n"
     ]
    }
   ],
   "source": [
    "print(classifier_default_distilbart(ARTICLE, max_length=130, min_length=10, do_sample=False))"
   ]
  },
  {
   "cell_type": "code",
   "execution_count": 47,
   "id": "aa8f3396",
   "metadata": {},
   "outputs": [
    {
     "name": "stdout",
     "output_type": "stream",
     "text": [
      "defaultdict(<class 'list'>, {'Introduction': ['default_t5_summary_150'], 'Purpose of SASB Standards': ['default_t5_summary_150']})\n"
     ]
    }
   ],
   "source": [
    "\n",
    "distilbart_content_map, distilbart_new_colmns = summarizeModel(\"default_t5\", text_content_map, classifier_default_t5_small, debug=True)\n",
    "print(distilbart_new_colmns)"
   ]
  },
  {
   "cell_type": "code",
   "execution_count": 48,
   "id": "2acaba4e",
   "metadata": {},
   "outputs": [
    {
     "data": {
      "text/plain": [
       "{'page_no': '4',\n",
       " 'level': 1,\n",
       " 'total_content_length': 10968,\n",
       " 'default_t5_summary_150': 'SASB Standards are designed to identify a minimum set of sustainability issues most likely to impact the operating performance or financial condition of the typical company in an industry, regardless of location . each accounting metric is accompanied by a technical protocol that provides guidance for third-party assurance .'}"
      ]
     },
     "execution_count": 48,
     "metadata": {},
     "output_type": "execute_result"
    }
   ],
   "source": [
    "saveInResultsList(distilbart_content_map, 'Introduction', distilbart_new_colmns, distilbart_model_id)\n",
    "distilbart_content_map['Introduction']"
   ]
  },
  {
   "cell_type": "code",
   "execution_count": 49,
   "id": "dbfd185a",
   "metadata": {},
   "outputs": [
    {
     "data": {
      "text/plain": [
       "{'page_no': '4',\n",
       " 'level': 2,\n",
       " 'parent': 'Introduction',\n",
       " 'content': 'The use of the term “sustainability” in the SASB Standards refers to corporate activities that maintain or enhance theability of the company to create value over the long term. Sustainability accounting reflects the governance andmanagement of a company’s environmental and social impacts arising from production of goods and services, as well asits governance and management of the environmental and social capitals necessary to create long-term value. The SASBStandards also refer to sustainability as “ESG” (environmental, social, and governance), though traditional corporategovernance issues such as board composition are not included within the scope of the SASB Standards.SASB Standards are designed to identify a minimum set of sustainability issues most likely to impact the operatingperformance or financial condition of the typical company in an industry, regardless of location. SASB Standards aredesigned to enable communications on corporate performance on industry-level sustainability issues in a cost-effectiveand decision-useful manner using existing disclosure and reporting mechanisms.Businesses can use the SASB Standards to better identify, manage, and communicate to investors sustainabilityinformation that is financially material. Use of the Standards can benefit businesses by improving transparency, riskmanagement, and performance. SASB Standards can help investors by encouraging reporting that is comparable,consistent, and financially material, thereby enabling investors to make better investment and voting decisions.',\n",
       " 'total_content_length': 1550,\n",
       " 'default_t5_summary_150': 'the term \"sustainability\" in the SASB Standards refers to corporate activities that maintain or enhance the company\\'s ability to create value over the long term . the SASBStandards also refer to sustainability as \"ESG\"'}"
      ]
     },
     "execution_count": 49,
     "metadata": {},
     "output_type": "execute_result"
    }
   ],
   "source": [
    "saveInResultsList(distilbart_content_map, 'Purpose of SASB Standards', distilbart_new_colmns, distilbart_model_id)\n",
    "distilbart_content_map['Purpose of SASB Standards']"
   ]
  },
  {
   "cell_type": "code",
   "execution_count": 50,
   "id": "bd77e2bd",
   "metadata": {},
   "outputs": [],
   "source": [
    "saveInExcel(distilbart_content_map, \"content_map_distilbart_content_map_modelling\", True)"
   ]
  },
  {
   "cell_type": "code",
   "execution_count": null,
   "id": "03d90482",
   "metadata": {},
   "outputs": [],
   "source": []
  },
  {
   "cell_type": "markdown",
   "id": "ce1774d8",
   "metadata": {},
   "source": [
    "### 2.2.2 Facebook Bart Model <a class=\"anchor\" id=\"section_2_2_2\"></a>"
   ]
  },
  {
   "cell_type": "code",
   "execution_count": 51,
   "id": "347a7e45",
   "metadata": {},
   "outputs": [],
   "source": [
    "summarizer_fb_bart = pipeline(\"summarization\", model=\"facebook/bart-large-cnn\")\n"
   ]
  },
  {
   "cell_type": "code",
   "execution_count": 52,
   "id": "34bebe4d",
   "metadata": {},
   "outputs": [],
   "source": [
    "summarizer_fb_bart_map, fb_new_colmns = summarizeModel(\"summarizer_fb_bart\", text_content_map, summarizer_fb_bart, debug=True)\n"
   ]
  },
  {
   "cell_type": "code",
   "execution_count": 53,
   "id": "f827ecc2",
   "metadata": {},
   "outputs": [
    {
     "data": {
      "text/plain": [
       "{'page_no': '4',\n",
       " 'level': 1,\n",
       " 'total_content_length': 10968,\n",
       " 'summarizer_fb_bart_summary_150': 'SASB Standards are designed to identify a minimum set of sustainability issues most likely to impact the operating performance or financial condition of the typical company in an industry, regardless of location . each accounting metric is accompanied by a technical protocol that provides guidance for third-party assurance .'}"
      ]
     },
     "execution_count": 53,
     "metadata": {},
     "output_type": "execute_result"
    }
   ],
   "source": [
    "saveInResultsList(summarizer_fb_bart_map, 'Introduction', fb_new_colmns, \"facebook/bart-large-cnn\")\n",
    "summarizer_fb_bart_map['Introduction']"
   ]
  },
  {
   "cell_type": "code",
   "execution_count": 54,
   "id": "99345a18",
   "metadata": {},
   "outputs": [
    {
     "data": {
      "text/plain": [
       "{'page_no': '4',\n",
       " 'level': 2,\n",
       " 'parent': 'Introduction',\n",
       " 'content': 'The use of the term “sustainability” in the SASB Standards refers to corporate activities that maintain or enhance theability of the company to create value over the long term. Sustainability accounting reflects the governance andmanagement of a company’s environmental and social impacts arising from production of goods and services, as well asits governance and management of the environmental and social capitals necessary to create long-term value. The SASBStandards also refer to sustainability as “ESG” (environmental, social, and governance), though traditional corporategovernance issues such as board composition are not included within the scope of the SASB Standards.SASB Standards are designed to identify a minimum set of sustainability issues most likely to impact the operatingperformance or financial condition of the typical company in an industry, regardless of location. SASB Standards aredesigned to enable communications on corporate performance on industry-level sustainability issues in a cost-effectiveand decision-useful manner using existing disclosure and reporting mechanisms.Businesses can use the SASB Standards to better identify, manage, and communicate to investors sustainabilityinformation that is financially material. Use of the Standards can benefit businesses by improving transparency, riskmanagement, and performance. SASB Standards can help investors by encouraging reporting that is comparable,consistent, and financially material, thereby enabling investors to make better investment and voting decisions.',\n",
       " 'total_content_length': 1550,\n",
       " 'summarizer_fb_bart_summary_150': 'the term \"sustainability\" in the SASB Standards refers to corporate activities that maintain or enhance the company\\'s ability to create value over the long term . the SASBStandards also refer to sustainability as \"ESG\"'}"
      ]
     },
     "execution_count": 54,
     "metadata": {},
     "output_type": "execute_result"
    }
   ],
   "source": [
    "saveInResultsList(summarizer_fb_bart_map, 'Purpose of SASB Standards', fb_new_colmns, \"facebook/bart-large-cnn\")\n",
    "summarizer_fb_bart_map['Purpose of SASB Standards']"
   ]
  },
  {
   "cell_type": "code",
   "execution_count": 55,
   "id": "64421a90",
   "metadata": {},
   "outputs": [],
   "source": [
    "saveInExcel(summarizer_fb_bart_map, \"content_map_summarizer_fb_bart_modelling\", True)"
   ]
  },
  {
   "cell_type": "code",
   "execution_count": null,
   "id": "cdec68d7",
   "metadata": {},
   "outputs": [],
   "source": []
  },
  {
   "cell_type": "markdown",
   "id": "ed97a10d",
   "metadata": {},
   "source": [
    "## 2.3 Use GPT-3 Model <a class=\"anchor\" id=\"section_2_3\"></a>\n"
   ]
  },
  {
   "cell_type": "code",
   "execution_count": 56,
   "id": "a10e898a",
   "metadata": {},
   "outputs": [],
   "source": [
    "def summarizeOpenAI(text, max_tokens=64, engine=\"text-davinci-002\",temperature=0.7):\n",
    "    \n",
    "    openai.organization = OPEN_AI_ORG\n",
    "    openai.api_key = OPEN_AI_API_KEY\n",
    "    print(openai.organization)\n",
    "    print(openai.api_key)\n",
    "    engine_list = openai.Engine.list() \n",
    "    response = openai.Completion.create(\n",
    "      engine=engine,\n",
    "      prompt=text,\n",
    "      temperature=temperature,\n",
    "      max_tokens=max_tokens,\n",
    "      top_p=1,\n",
    "      frequency_penalty=0,\n",
    "      presence_penalty=0\n",
    "    )\n",
    "    return response\n"
   ]
  },
  {
   "cell_type": "code",
   "execution_count": 57,
   "id": "6a505c90",
   "metadata": {},
   "outputs": [],
   "source": [
    "\n",
    "def summarizeModelOpenAI(name, b_content_map, engine=\"davinci\",temperature=0.3, size=-1, debug=False, max_length_list=[150]):\n",
    "        \n",
    "    a_content_map = copy.deepcopy(b_content_map)\n",
    "\n",
    "    new_colmns = collections.defaultdict(list) \n",
    "    debug_cnt =0\n",
    "    for k, v in b_content_map.items():\n",
    "        \n",
    "        if v['content'] !=\"\":\n",
    "            length = len(v['content'])\n",
    "            a_content_map[k]['total_content_length'] = length\n",
    "\n",
    "            if length > 10:\n",
    "                \n",
    "                # for each of the max lengths generate summary, add it as a new key-val in the dictionary\n",
    "                for m_length in max_length_list:\n",
    "                    col_name = name+\"_summary_\"+ str(m_length)\n",
    "                    \n",
    "                    summary_m_length = summarizeOpenAI(v['content'][:size], m_length, engine, temperature)\n",
    "                    a_content_map[k][col_name] = summary_m_length['choices'][0]['text'].strip()\n",
    "                    new_colmns[k].append(col_name)\n",
    "\n",
    "                if debug:\n",
    "                    debug_cnt +=1\n",
    "                    if debug_cnt >1:\n",
    "                        break\n",
    "    # clean up the parent content            \n",
    "    cleanup_content_map(a_content_map)            \n",
    "            \n",
    "    return a_content_map, new_colmns\n"
   ]
  },
  {
   "cell_type": "markdown",
   "id": "2bb4c65e",
   "metadata": {},
   "source": [
    "### 2.3.1 Open_ai_davinici_002 Model <a class=\"anchor\" id=\"section_2_3_1\"></a>\n"
   ]
  },
  {
   "cell_type": "code",
   "execution_count": 58,
   "id": "504709eb",
   "metadata": {},
   "outputs": [],
   "source": [
    "# summarizer_open_ai_davinici_002_map, open_ai_002_new_colmns = summarizeModelOpenAI(\"open_ai_davinici_002\", text_content_map,\"text-davinci-002\", 0.7, debug=True)\n"
   ]
  },
  {
   "cell_type": "code",
   "execution_count": 59,
   "id": "55a05c7b",
   "metadata": {},
   "outputs": [],
   "source": [
    "# saveInExcel(summarizer_open_ai_davinici_002_map, \"content_map_open_ai_davinici_002_modelling\", True)"
   ]
  },
  {
   "cell_type": "code",
   "execution_count": 60,
   "id": "bdbe0159",
   "metadata": {},
   "outputs": [],
   "source": [
    "file_davinci_002= \"results/model_evaluation/content_map_open_ai_davinici_002_modelling_05_23_2022.xlsx\"\n",
    "file_davinci = \"results/model_evaluation/content_map_open_ai_davinici_modelling_05_23_2022.xlsx\""
   ]
  },
  {
   "cell_type": "code",
   "execution_count": 61,
   "id": "075caad6",
   "metadata": {},
   "outputs": [],
   "source": [
    "summarizer_open_ai_davinici_002_map = pd.read_excel(file_davinci_002, index_col=0).to_dict()"
   ]
  },
  {
   "cell_type": "code",
   "execution_count": 62,
   "id": "36467a69",
   "metadata": {},
   "outputs": [
    {
     "data": {
      "text/plain": [
       "'The SASB Standards are intended to be used by companies to prepare their sustainability disclosure for the benefit offinancial statement users. They should not be used to assess environmental or social performance, craft environmental orsocial strategies, or implement environmental or social programs.SASB Standards are not rules or regulations. They are not mandatory. Companies are not required to use the SASBStandards to prepare sustainability disclosure.The SASB Standards were developed based on the premise that companies that can better manage and communicatesustainability issues most likely to impact the operating performance or financial condition of the typical company'"
      ]
     },
     "execution_count": 62,
     "metadata": {},
     "output_type": "execute_result"
    }
   ],
   "source": [
    "vv = summarizer_open_ai_davinici_002_map['open_ai_davinici_002_summary_130']['Purpose of SASB Standards']\n",
    "vv = vv.strip()\n",
    "vv = vv.replace(\"\\n\",\"\")\n",
    "model_summary_results.append((\"open_ai_davinici_002\", 'Purpose of SASB Standards : '+'open_ai_davinici_002_summary_130', vv))\n",
    "\n",
    "vv"
   ]
  },
  {
   "cell_type": "markdown",
   "id": "c4f9a72b",
   "metadata": {},
   "source": [
    "### 2.3.2 Open_ai_davinici Model <a class=\"anchor\" id=\"section_2_3_2\"></a>\n"
   ]
  },
  {
   "cell_type": "code",
   "execution_count": 63,
   "id": "66567ce2",
   "metadata": {},
   "outputs": [],
   "source": [
    "# summarizer_open_ai_davinici_map, open_ai_davinci_new_colmns = summarizeModelOpenAIGPT(\"open_ai_davinici\", text_content_map,\"davinci\", 0.3, 1900, debug=True)\n"
   ]
  },
  {
   "cell_type": "code",
   "execution_count": 64,
   "id": "a18cb3a2",
   "metadata": {},
   "outputs": [],
   "source": [
    "# saveInExcel(summarizer_open_ai_davinici_map, \"content_map_open_ai_davinici_modelling\", True)"
   ]
  },
  {
   "cell_type": "code",
   "execution_count": 65,
   "id": "6d843a1d",
   "metadata": {},
   "outputs": [],
   "source": [
    "summarizer_open_ai_davinici_map = pd.read_excel(file_davinci, index_col=0).to_dict()"
   ]
  },
  {
   "cell_type": "code",
   "execution_count": 66,
   "id": "1bf44d12",
   "metadata": {},
   "outputs": [
    {
     "data": {
      "text/plain": [
       "'The SASB Standards are designed to be consistent with existing financial reporting standards and practices. SASBStandards are designed to be used in conjunction with existing financial reporting standards and practices. SASBStandards are designed to be used in conjunction with existing financial reporting standards and practices. SASBStandards are designed to be used in conjunction with existing financial reporting standards and practices. SASBStandards are designed to be used in conjunction with existing financial reporting standards and practices. SASBStandards are designed to be used in conjunction with existing financial reporting standards and practices. SASBStandards are designed to be used in conjunction with existing financial reporting standards and practices'"
      ]
     },
     "execution_count": 66,
     "metadata": {},
     "output_type": "execute_result"
    }
   ],
   "source": [
    "vv = summarizer_open_ai_davinici_map['open_ai_davinici_summary_130']['Purpose of SASB Standards']\n",
    "vv = vv.strip()\n",
    "model_summary_results.append((\"open_ai_davinici\", 'Purpose of SASB Standards : '+'open_ai_davinici_summary_130', vv))\n",
    "vv"
   ]
  },
  {
   "cell_type": "code",
   "execution_count": null,
   "id": "ca28f66e",
   "metadata": {},
   "outputs": [],
   "source": []
  },
  {
   "cell_type": "markdown",
   "id": "0f4d34e3",
   "metadata": {},
   "source": [
    "## 2.4 Bert Extractive Summarizer <a class=\"anchor\" id=\"section_2_4\"></a>"
   ]
  },
  {
   "cell_type": "markdown",
   "id": "9b159537",
   "metadata": {},
   "source": [
    "### 2.4.1 Bert-large-uncased Model <a class=\"anchor\" id=\"section_2_4_1\"></a>"
   ]
  },
  {
   "cell_type": "code",
   "execution_count": 67,
   "id": "7b896ee4",
   "metadata": {},
   "outputs": [
    {
     "name": "stderr",
     "output_type": "stream",
     "text": [
      "Some weights of the model checkpoint at bert-large-uncased were not used when initializing BertModel: ['cls.predictions.transform.LayerNorm.bias', 'cls.predictions.bias', 'cls.seq_relationship.weight', 'cls.predictions.transform.LayerNorm.weight', 'cls.predictions.decoder.weight', 'cls.predictions.transform.dense.bias', 'cls.seq_relationship.bias', 'cls.predictions.transform.dense.weight']\n",
      "- This IS expected if you are initializing BertModel from the checkpoint of a model trained on another task or with another architecture (e.g. initializing a BertForSequenceClassification model from a BertForPreTraining model).\n",
      "- This IS NOT expected if you are initializing BertModel from the checkpoint of a model that you expect to be exactly identical (initializing a BertForSequenceClassification model from a BertForSequenceClassification model).\n"
     ]
    }
   ],
   "source": [
    "\n",
    "model = Summarizer()"
   ]
  },
  {
   "cell_type": "code",
   "execution_count": 68,
   "id": "d74e7840",
   "metadata": {},
   "outputs": [
    {
     "name": "stdout",
     "output_type": "stream",
     "text": [
      "The use of the term “sustainability” in the SASB Standards refers to corporate activities that maintain or enhance theability of the company to create value over the long term. Businesses can use the SASB Standards to better identify, manage, and communicate to investors sustainabilityinformation that is financially material.\n",
      "[[-0.10613243 -0.16330948 -0.3940094  ...  0.2102791  -0.04488603\n",
      "   0.3458741 ]\n",
      " [ 0.14696051 -0.41607744 -0.4576886  ...  0.1237503   0.45531017\n",
      "   0.1342383 ]]\n",
      "\n",
      "\n",
      "The use of the term “sustainability” in the SASB Standards refers to corporate activities that maintain or enhance theability of the company to create value over the long term. Businesses can use the SASB Standards to better identify, manage, and communicate to investors sustainabilityinformation that is financially material.\n",
      "[[-0.10613243 -0.16330948 -0.3940094  ...  0.2102791  -0.04488603\n",
      "   0.3458741 ]\n",
      " [ 0.14696051 -0.41607744 -0.4576886  ...  0.1237503   0.45531017\n",
      "   0.1342383 ]]\n",
      "\n",
      "\n",
      "The use of the term “sustainability” in the SASB Standards refers to corporate activities that maintain or enhance theability of the company to create value over the long term. Businesses can use the SASB Standards to better identify, manage, and communicate to investors sustainabilityinformation that is financially material. Use of the Standards can benefit businesses by improving transparency, riskmanagement, and performance.\n",
      "[[-0.10613243 -0.16330948 -0.3940094  ...  0.2102791  -0.04488603\n",
      "   0.3458741 ]\n",
      " [ 0.14696051 -0.41607744 -0.4576886  ...  0.1237503   0.45531017\n",
      "   0.1342383 ]\n",
      " [-0.73155904 -0.3754434  -0.82686484 ... -0.03064854  0.80472183\n",
      "   0.00261104]]\n",
      "\n",
      "\n"
     ]
    }
   ],
   "source": [
    "#\"bert-large-uncased\"\n",
    "res = model(ARTICLE)\n",
    "print(res)\n",
    "result = model.run_embeddings(ARTICLE)  # Specified with ratio. \n",
    "print(result)\n",
    "print(\"\\n\")\n",
    "\n",
    "res = model(ARTICLE, ratio=0.2)\n",
    "print(res)\n",
    "result = model.run_embeddings(ARTICLE, ratio=0.2)  # Specified with ratio. \n",
    "print(result)\n",
    "print(\"\\n\")\n",
    "\n",
    "res = model(ARTICLE, num_sentences=3)\n",
    "print(res)\n",
    "result = model.run_embeddings(ARTICLE, num_sentences=3)  # Will return (3, N) embedding numpy matrix.\n",
    "print(result)\n",
    "print(\"\\n\")"
   ]
  },
  {
   "cell_type": "markdown",
   "id": "8e807ccb",
   "metadata": {},
   "source": [
    "**from these various config, by using 3 sentences gives a well constructed summary, hence forth will be using the sentences.**"
   ]
  },
  {
   "cell_type": "code",
   "execution_count": 69,
   "id": "58b3da94",
   "metadata": {},
   "outputs": [],
   "source": [
    "# saveInResultsList(summarizer_fb_bart_map, 'Purpose of SASB Standards', fb_new_colmns, \"facebook/bart-large-cnn\")\n",
    "model_summary_results.append((\"bert-large-uncased\", 'Purpose of SASB Standards : '+'bert-large-uncased', res.strip()))\n"
   ]
  },
  {
   "cell_type": "code",
   "execution_count": null,
   "id": "17045a4e",
   "metadata": {},
   "outputs": [],
   "source": []
  },
  {
   "cell_type": "markdown",
   "id": "008e083b",
   "metadata": {},
   "source": [
    "### 2.4.2 Facebook Bart Model <a class=\"anchor\" id=\"section_2_4_2\"></a>"
   ]
  },
  {
   "cell_type": "code",
   "execution_count": 70,
   "id": "86f852b7",
   "metadata": {},
   "outputs": [
    {
     "name": "stderr",
     "output_type": "stream",
     "text": [
      "Some weights of the model checkpoint at distilbert-base-uncased were not used when initializing DistilBertModel: ['vocab_projector.bias', 'vocab_layer_norm.weight', 'vocab_projector.weight', 'vocab_transform.weight', 'vocab_layer_norm.bias', 'vocab_transform.bias']\n",
      "- This IS expected if you are initializing DistilBertModel from the checkpoint of a model trained on another task or with another architecture (e.g. initializing a BertForSequenceClassification model from a BertForPreTraining model).\n",
      "- This IS NOT expected if you are initializing DistilBertModel from the checkpoint of a model that you expect to be exactly identical (initializing a BertForSequenceClassification model from a BertForSequenceClassification model).\n"
     ]
    }
   ],
   "source": [
    "model_distilbert_base_uncased = Summarizer('distilbert-base-uncased', hidden=[-1,-2], hidden_concat=True)"
   ]
  },
  {
   "cell_type": "code",
   "execution_count": 71,
   "id": "517e95f4",
   "metadata": {},
   "outputs": [
    {
     "name": "stdout",
     "output_type": "stream",
     "text": [
      "The use of the term “sustainability” in the SASB Standards refers to corporate activities that maintain or enhance theability of the company to create value over the long term. Sustainability accounting reflects the governance andmanagement of a company’s environmental and social impacts arising from production of goods and services, as well asits governance and management of the environmental and social capitals necessary to create long-term value. Businesses can use the SASB Standards to better identify, manage, and communicate to investors sustainabilityinformation that is financially material.\n"
     ]
    }
   ],
   "source": [
    "result = model_distilbert_base_uncased(ARTICLE, num_sentences=3)\n",
    "model_summary_results.append((\"distilbert-base-uncased\", 'Purpose of SASB Standards : '+'distilbert-base-uncased', result.strip()))\n",
    "\n",
    "print(result)"
   ]
  },
  {
   "cell_type": "code",
   "execution_count": null,
   "id": "24baebb8",
   "metadata": {},
   "outputs": [],
   "source": []
  },
  {
   "cell_type": "markdown",
   "id": "6b156ba8",
   "metadata": {},
   "source": [
    "### 2.4.3 Paraphrase-MiniLM-L6-v2 Model <a class=\"anchor\" id=\"section_2_4_3\"></a>\n"
   ]
  },
  {
   "cell_type": "code",
   "execution_count": 72,
   "id": "51f45931",
   "metadata": {},
   "outputs": [],
   "source": [
    "model_paraphrase_MiniLM_L6_v2 = SBertSummarizer('paraphrase-MiniLM-L6-v2')"
   ]
  },
  {
   "cell_type": "code",
   "execution_count": 73,
   "id": "1cd39367",
   "metadata": {},
   "outputs": [
    {
     "name": "stdout",
     "output_type": "stream",
     "text": [
      "The use of the term “sustainability” in the SASB Standards refers to corporate activities that maintain or enhance theability of the company to create value over the long term. Sustainability accounting reflects the governance andmanagement of a company’s environmental and social impacts arising from production of goods and services, as well asits governance and management of the environmental and social capitals necessary to create long-term value. SASB Standards aredesigned to enable communications on corporate performance on industry-level sustainability issues in a cost-effectiveand decision-useful manner using existing disclosure and reporting mechanisms.\n"
     ]
    }
   ],
   "source": [
    "result = model_paraphrase_MiniLM_L6_v2(ARTICLE, num_sentences=3)\n",
    "model_summary_results.append((\"paraphrase-MiniLM-L6-v2\", 'Purpose of SASB Standards : '+'paraphrase-MiniLM-L6-v2', result.strip()))\n",
    "\n",
    "print(result)"
   ]
  },
  {
   "cell_type": "code",
   "execution_count": null,
   "id": "5f74ad9a",
   "metadata": {},
   "outputs": [],
   "source": []
  },
  {
   "cell_type": "markdown",
   "id": "0f8ffc88",
   "metadata": {},
   "source": [
    "## 2.5 Use Custom Model <a class=\"anchor\" id=\"section_2_5\"></a>\n"
   ]
  },
  {
   "cell_type": "code",
   "execution_count": 75,
   "id": "3e55a007",
   "metadata": {},
   "outputs": [
    {
     "name": "stderr",
     "output_type": "stream",
     "text": [
      "Some weights of the model checkpoint at allenai/scibert_scivocab_uncased were not used when initializing BertModel: ['cls.predictions.transform.LayerNorm.bias', 'cls.predictions.bias', 'cls.seq_relationship.weight', 'cls.predictions.transform.LayerNorm.weight', 'cls.predictions.decoder.weight', 'cls.predictions.transform.dense.bias', 'cls.seq_relationship.bias', 'cls.predictions.decoder.bias', 'cls.predictions.transform.dense.weight']\n",
      "- This IS expected if you are initializing BertModel from the checkpoint of a model trained on another task or with another architecture (e.g. initializing a BertForSequenceClassification model from a BertForPreTraining model).\n",
      "- This IS NOT expected if you are initializing BertModel from the checkpoint of a model that you expect to be exactly identical (initializing a BertForSequenceClassification model from a BertForSequenceClassification model).\n"
     ]
    }
   ],
   "source": [
    "\n",
    "# Load model, model config and tokenizer via Transformers\n",
    "custom_config = AutoConfig.from_pretrained('allenai/scibert_scivocab_uncased')\n",
    "custom_config.output_hidden_states=True\n",
    "custom_tokenizer = AutoTokenizer.from_pretrained('allenai/scibert_scivocab_uncased')\n",
    "custom_model = AutoModel.from_pretrained('allenai/scibert_scivocab_uncased', config=custom_config)\n",
    "\n",
    "model_custom = Summarizer(custom_model=custom_model, custom_tokenizer=custom_tokenizer)\n"
   ]
  },
  {
   "cell_type": "code",
   "execution_count": 76,
   "id": "3bd967d5",
   "metadata": {},
   "outputs": [
    {
     "name": "stdout",
     "output_type": "stream",
     "text": [
      "The use of the term “sustainability” in the SASB Standards refers to corporate activities that maintain or enhance theability of the company to create value over the long term. The SASBStandards also refer to sustainability as “ESG” (environmental, social, and governance), though traditional corporategovernance issues such as board composition are not included within the scope of the SASB Standards.\n"
     ]
    }
   ],
   "source": [
    "result = model_custom(ARTICLE)\n",
    "model_summary_results.append((\"custom_scibert_scivocab_uncased\", 'Purpose of SASB Standards : '+'scibert_scivocab_uncased', result.strip()))\n",
    "\n",
    "print(result)"
   ]
  },
  {
   "cell_type": "code",
   "execution_count": null,
   "id": "0d8b9fb3",
   "metadata": {},
   "outputs": [],
   "source": []
  },
  {
   "cell_type": "markdown",
   "id": "cfb795b0",
   "metadata": {},
   "source": [
    "# 3. Finalize Model <a class=\"anchor\" id=\"section_3\"></a>\n"
   ]
  },
  {
   "cell_type": "code",
   "execution_count": 77,
   "id": "e13a02a9",
   "metadata": {},
   "outputs": [
    {
     "name": "stdout",
     "output_type": "stream",
     "text": [
      "\n",
      "The use of the term “sustainability” in the SASB Standards refers to corporate activities that maintain or enhance theability of the company to create value over the long term. Sustainability accounting reflects the governance andmanagement of a company’s environmental and social impacts arising from production of goods and services, as well asits governance and management of the environmental and social capitals necessary to create long-term value. The SASBStandards also refer to sustainability as “ESG” (environmental, social, and governance), though traditional corporategovernance issues such as board composition are not included within the scope of the SASB Standards.SASB Standards are designed to identify a minimum set of sustainability issues most likely to impact the operatingperformance or financial condition of the typical company in an industry, regardless of location. SASB Standards aredesigned to enable communications on corporate performance on industry-level sustainability issues in a cost-effectiveand decision-useful manner using existing disclosure and reporting mechanisms.Businesses can use the SASB Standards to better identify, manage, and communicate to investors sustainabilityinformation that is financially material. Use of the Standards can benefit businesses by improving transparency, riskmanagement, and performance. SASB Standards can help investors by encouraging reporting that is comparable,consistent, and financially material, thereby enabling investors to make better investment and voting decisions.\n"
     ]
    }
   ],
   "source": [
    "# displaying the content and its summary for verifying the model performance.\n",
    "# print(ITRODUCTION)\n",
    "print()\n",
    "print(ARTICLE)"
   ]
  },
  {
   "cell_type": "code",
   "execution_count": 78,
   "id": "4fee4af5",
   "metadata": {},
   "outputs": [
    {
     "name": "stdout",
     "output_type": "stream",
     "text": [
      "t5-small\n",
      "--------\n",
      "\n",
      "Introduction : default_t5_summary_150:\n",
      "\n",
      "SASB Standards are designed to identify a minimum set of sustainability issues most likely to impact the operating performance or financial condition of the typical company in an industry, regardless of location . each accounting metric is accompanied by a technical protocol that provides guidance for third-party assurance .\n",
      "\n",
      "****************************************************************************************************\n",
      "\n",
      "t5-small\n",
      "--------\n",
      "\n",
      "Purpose of SASB Standards : default_t5_summary_150:\n",
      "\n",
      "the term \"sustainability\" in the SASB Standards refers to corporate activities that maintain or enhance the company's ability to create value over the long term . the SASBStandards also refer to sustainability as \"ESG\"\n",
      "\n",
      "****************************************************************************************************\n",
      "\n",
      "mt5-small-finetuned-amazon-en-es\n",
      "--------------------------------\n",
      "\n",
      "Introduction : summarizer_amazon_en_es_summary_150:\n",
      "\n",
      "SASB Standards are designed to identify a minimum set of sustainability issues most likely to impact the operating performance or financial condition of the typical company in an industry, regardless of location . each accounting metric is accompanied by a technical protocol that provides guidance for third-party assurance .\n",
      "\n",
      "****************************************************************************************************\n",
      "\n",
      "mt5-small-finetuned-amazon-en-es\n",
      "--------------------------------\n",
      "\n",
      "Purpose of SASB Standards : summarizer_amazon_en_es_summary_150:\n",
      "\n",
      "the term \"sustainability\" in the SASB Standards refers to corporate activities that maintain or enhance the company's ability to create value over the long term . the SASBStandards also refer to sustainability as \"ESG\"\n",
      "\n",
      "****************************************************************************************************\n",
      "\n",
      "sshleifer/distilbart-cnn-12-6\n",
      "-----------------------------\n",
      "\n",
      "Introduction : default_t5_summary_150:\n",
      "\n",
      "SASB Standards are designed to identify a minimum set of sustainability issues most likely to impact the operating performance or financial condition of the typical company in an industry, regardless of location . each accounting metric is accompanied by a technical protocol that provides guidance for third-party assurance .\n",
      "\n",
      "****************************************************************************************************\n",
      "\n",
      "sshleifer/distilbart-cnn-12-6\n",
      "-----------------------------\n",
      "\n",
      "Purpose of SASB Standards : default_t5_summary_150:\n",
      "\n",
      "the term \"sustainability\" in the SASB Standards refers to corporate activities that maintain or enhance the company's ability to create value over the long term . the SASBStandards also refer to sustainability as \"ESG\"\n",
      "\n",
      "****************************************************************************************************\n",
      "\n",
      "facebook/bart-large-cnn\n",
      "-----------------------\n",
      "\n",
      "Introduction : summarizer_fb_bart_summary_150:\n",
      "\n",
      "SASB Standards are designed to identify a minimum set of sustainability issues most likely to impact the operating performance or financial condition of the typical company in an industry, regardless of location . each accounting metric is accompanied by a technical protocol that provides guidance for third-party assurance .\n",
      "\n",
      "****************************************************************************************************\n",
      "\n",
      "facebook/bart-large-cnn\n",
      "-----------------------\n",
      "\n",
      "Purpose of SASB Standards : summarizer_fb_bart_summary_150:\n",
      "\n",
      "the term \"sustainability\" in the SASB Standards refers to corporate activities that maintain or enhance the company's ability to create value over the long term . the SASBStandards also refer to sustainability as \"ESG\"\n",
      "\n",
      "****************************************************************************************************\n",
      "\n",
      "open_ai_davinici_002\n",
      "--------------------\n",
      "\n",
      "Purpose of SASB Standards : open_ai_davinici_002_summary_130:\n",
      "\n",
      "The SASB Standards are intended to be used by companies to prepare their sustainability disclosure for the benefit offinancial statement users. They should not be used to assess environmental or social performance, craft environmental orsocial strategies, or implement environmental or social programs.SASB Standards are not rules or regulations. They are not mandatory. Companies are not required to use the SASBStandards to prepare sustainability disclosure.The SASB Standards were developed based on the premise that companies that can better manage and communicatesustainability issues most likely to impact the operating performance or financial condition of the typical company\n",
      "\n",
      "****************************************************************************************************\n",
      "\n",
      "open_ai_davinici\n",
      "----------------\n",
      "\n",
      "Purpose of SASB Standards : open_ai_davinici_summary_130:\n",
      "\n",
      "The SASB Standards are designed to be consistent with existing financial reporting standards and practices. SASBStandards are designed to be used in conjunction with existing financial reporting standards and practices. SASBStandards are designed to be used in conjunction with existing financial reporting standards and practices. SASBStandards are designed to be used in conjunction with existing financial reporting standards and practices. SASBStandards are designed to be used in conjunction with existing financial reporting standards and practices. SASBStandards are designed to be used in conjunction with existing financial reporting standards and practices. SASBStandards are designed to be used in conjunction with existing financial reporting standards and practices\n",
      "\n",
      "****************************************************************************************************\n",
      "\n",
      "bert-large-uncased\n",
      "------------------\n",
      "\n",
      "Purpose of SASB Standards : bert-large-uncased:\n",
      "\n",
      "The use of the term “sustainability” in the SASB Standards refers to corporate activities that maintain or enhance theability of the company to create value over the long term. Businesses can use the SASB Standards to better identify, manage, and communicate to investors sustainabilityinformation that is financially material. Use of the Standards can benefit businesses by improving transparency, riskmanagement, and performance.\n",
      "\n",
      "****************************************************************************************************\n",
      "\n",
      "distilbert-base-uncased\n",
      "-----------------------\n",
      "\n",
      "Purpose of SASB Standards : distilbert-base-uncased:\n",
      "\n",
      "The use of the term “sustainability” in the SASB Standards refers to corporate activities that maintain or enhance theability of the company to create value over the long term. Sustainability accounting reflects the governance andmanagement of a company’s environmental and social impacts arising from production of goods and services, as well asits governance and management of the environmental and social capitals necessary to create long-term value. Businesses can use the SASB Standards to better identify, manage, and communicate to investors sustainabilityinformation that is financially material.\n",
      "\n",
      "****************************************************************************************************\n",
      "\n",
      "paraphrase-MiniLM-L6-v2\n",
      "-----------------------\n",
      "\n",
      "Purpose of SASB Standards : paraphrase-MiniLM-L6-v2:\n",
      "\n",
      "The use of the term “sustainability” in the SASB Standards refers to corporate activities that maintain or enhance theability of the company to create value over the long term. Sustainability accounting reflects the governance andmanagement of a company’s environmental and social impacts arising from production of goods and services, as well asits governance and management of the environmental and social capitals necessary to create long-term value. SASB Standards aredesigned to enable communications on corporate performance on industry-level sustainability issues in a cost-effectiveand decision-useful manner using existing disclosure and reporting mechanisms.\n",
      "\n",
      "****************************************************************************************************\n",
      "\n",
      "custom_scibert_scivocab_uncased\n",
      "-------------------------------\n",
      "\n",
      "Purpose of SASB Standards : scibert_scivocab_uncased:\n",
      "\n",
      "The use of the term “sustainability” in the SASB Standards refers to corporate activities that maintain or enhance theability of the company to create value over the long term. The SASBStandards also refer to sustainability as “ESG” (environmental, social, and governance), though traditional corporategovernance issues such as board composition are not included within the scope of the SASB Standards.\n",
      "\n",
      "****************************************************************************************************\n",
      "\n"
     ]
    }
   ],
   "source": [
    "for model_id, summary_key, summary_value in model_summary_results:\n",
    "    print(model_id)\n",
    "    print(\"-\"*len(model_id))\n",
    "    print()\n",
    "    \n",
    "    print(summary_key+\":\")\n",
    "    print()\n",
    "    \n",
    "    print(summary_value)\n",
    "#     print(\"-\"*150)\n",
    "    print()\n",
    "    \n",
    "    print(\"*\"*100)\n",
    "    print()"
   ]
  },
  {
   "cell_type": "markdown",
   "id": "c1edc16e",
   "metadata": {},
   "source": [
    "## 3.1 Analysis <a class=\"anchor\" id=\"section_3_1\"></a>\n",
    "\n"
   ]
  },
  {
   "cell_type": "markdown",
   "id": "a6f8feae",
   "metadata": {},
   "source": [
    "\n",
    "   1. The Four Models used ** t5-small, mt5-small-finetuned-amazon-en-es, sshleifer/distilbart-cnn-12-6, facebook/bart-large-cnn ** were from **transformers** library. All of these exhibit similar summary of the text data by extracting relevant sentences from the text and giving the output resonse.\n",
    "    \n",
    "    \n",
    "   2. **open_ai_davinici_002** model paraphrased the sentence and provided well-structure ouput. To execute large set of data, API service needs to be upgrade with additional charges.\n",
    "    \n",
    "   \n",
    "   3. **open_ai_davinici** model could not summarize the text, and returned same sentence seven times. hence it is not chosen.\n",
    "    \n",
    "   \n",
    "   4. **MiniLM-L6-v2** model in the SBertSummarizer library paraphrased the input sentence, hence it is not chosen\n",
    "    \n",
    "   \n",
    "   5. **bert-large-uncased** model provides a crisp description, **distilbert-base-uncased** tries to add few more words in the summary. both of them are seems to be good for the text. These are part of Summarizer library.\n",
    "    \n",
    "   \n",
    "   6. Fine tuned Auto model returned definitions of the text."
   ]
  },
  {
   "cell_type": "markdown",
   "id": "f1075168",
   "metadata": {},
   "source": [
    "**AS the distilbert-base-uncased model provides a crisp description choosing it as the final model.**"
   ]
  },
  {
   "cell_type": "markdown",
   "id": "9c7da172",
   "metadata": {},
   "source": [
    "## 3.2 Final Model <a class=\"anchor\" id=\"section_3_2\"></a>\n"
   ]
  },
  {
   "cell_type": "code",
   "execution_count": 79,
   "id": "3e99a25a",
   "metadata": {},
   "outputs": [],
   "source": [
    "# do the complete summary extraction, save it in a file."
   ]
  },
  {
   "cell_type": "code",
   "execution_count": 80,
   "id": "8a54d6ec",
   "metadata": {},
   "outputs": [
    {
     "name": "stderr",
     "output_type": "stream",
     "text": [
      "Some weights of the model checkpoint at distilbert-base-uncased were not used when initializing DistilBertModel: ['vocab_projector.bias', 'vocab_layer_norm.weight', 'vocab_projector.weight', 'vocab_transform.weight', 'vocab_layer_norm.bias', 'vocab_transform.bias']\n",
      "- This IS expected if you are initializing DistilBertModel from the checkpoint of a model trained on another task or with another architecture (e.g. initializing a BertForSequenceClassification model from a BertForPreTraining model).\n",
      "- This IS NOT expected if you are initializing DistilBertModel from the checkpoint of a model that you expect to be exactly identical (initializing a BertForSequenceClassification model from a BertForSequenceClassification model).\n"
     ]
    }
   ],
   "source": [
    "\n",
    "final_model = Summarizer('distilbert-base-uncased', hidden=[-1,-2], hidden_concat=True)\n"
   ]
  },
  {
   "cell_type": "code",
   "execution_count": 81,
   "id": "ad1c31b0",
   "metadata": {},
   "outputs": [],
   "source": [
    "def summarizeContentMap(name, b_content_map, summarizer_model, size=-1, debug=False, max_length_list=[150], num_sentences=3):\n",
    "    \n",
    "    a_content_map = copy.deepcopy(b_content_map)\n",
    "\n",
    "    new_colmns = collections.defaultdict(list) \n",
    "    debug_cnt =0\n",
    "    for k, v in b_content_map.items():\n",
    "        \n",
    "        if v['content'] !=\"\":\n",
    "            length = len(v['content'])\n",
    "            a_content_map[k]['total_content_length'] = length\n",
    "\n",
    "            if length > 10:\n",
    "                \n",
    "                # for each of the max lengths generate summary, add it as a new key-val in the dictionary\n",
    "                for m_length in max_length_list:\n",
    "                    col_name = \"content_summary\"\n",
    "                    \n",
    "                    result = summarizer_model(v['content'], num_sentences=num_sentences)\n",
    "                    a_content_map[k][col_name] = result.strip()\n",
    "                    new_colmns[k].append(col_name)\n",
    "\n",
    "                if debug:\n",
    "                    debug_cnt +=1\n",
    "                    if debug_cnt >1:\n",
    "                        break\n",
    "    # clean up the parent content            \n",
    "    cleanup_content_map(a_content_map)            \n",
    "            \n",
    "    return a_content_map, new_colmns\n"
   ]
  },
  {
   "cell_type": "code",
   "execution_count": 82,
   "id": "a5f60707",
   "metadata": {},
   "outputs": [],
   "source": [
    "summarizer_distill_bert_map, distill_bert_new_colmns = summarizeContentMap('distilbert-base-uncased', text_content_map, final_model)\n"
   ]
  },
  {
   "cell_type": "code",
   "execution_count": 83,
   "id": "b5f2814b",
   "metadata": {},
   "outputs": [
    {
     "data": {
      "text/plain": [
       "defaultdict(list,\n",
       "            {'Introduction': ['content_summary'],\n",
       "             'Purpose of SASB Standards': ['content_summary'],\n",
       "             'Overview of SASB Standards': ['content_summary'],\n",
       "             'Use of the Standards': ['content_summary'],\n",
       "             'Industry Description': ['content_summary'],\n",
       "             'Sustainability Disclosure Topics & Accounting Metrics': ['content_summary'],\n",
       "             'Greenhouse Gas Emissions': ['content_summary'],\n",
       "             'Air Quality': ['content_summary'],\n",
       "             'Energy Management': ['content_summary'],\n",
       "             'Water Management': ['content_summary'],\n",
       "             'Waste & Hazardous Materials Management': ['content_summary'],\n",
       "             'Biodiversity Impacts': ['content_summary'],\n",
       "             'Security, Human Rights & Rights of Indigenous Peoples': ['content_summary'],\n",
       "             'Community Relations': ['content_summary'],\n",
       "             'Labor Relations': ['content_summary'],\n",
       "             'Workforce Health & Safety': ['content_summary'],\n",
       "             'Business Ethics & Transparency': ['content_summary'],\n",
       "             'Tailings Storage Facilities Management': ['content_summary']})"
      ]
     },
     "execution_count": 83,
     "metadata": {},
     "output_type": "execute_result"
    }
   ],
   "source": [
    "distill_bert_new_colmns"
   ]
  },
  {
   "cell_type": "code",
   "execution_count": 84,
   "id": "94b64fbc",
   "metadata": {},
   "outputs": [
    {
     "data": {
      "text/plain": [
       "{'page_no': '4',\n",
       " 'level': 1,\n",
       " 'total_content_length': 10968,\n",
       " 'content_summary': 'The use of the term “sustainability” in the SASB Standards refers to corporate activities that maintain or enhance theability of the company to create value over the long term. A company determineswhich Standard(s) is relevant to the company, which disclosure topics are financially material to its business, and whichassociated metrics to report, taking relevant legal requirements into account1. Activity MetricsUNIT OFACTIVITY METRIC CATEGORY CODEMEASUREMetric tons (t)Production of (1) metal ores and (2) finished metal products Quantitative EM-MM-000.AsaleableNumber,Total number of employees, percentage contractors Quantitative EM-MM-000.BPercentage (%)SUSTAINABILITY ACCOUNTING STANDARD | METALS & MINING | 8'}"
      ]
     },
     "execution_count": 84,
     "metadata": {},
     "output_type": "execute_result"
    }
   ],
   "source": [
    "summarizer_distill_bert_map['Introduction']"
   ]
  },
  {
   "cell_type": "code",
   "execution_count": 85,
   "id": "3733eb05",
   "metadata": {},
   "outputs": [
    {
     "data": {
      "text/plain": [
       "{'page_no': '4',\n",
       " 'level': 2,\n",
       " 'parent': 'Introduction',\n",
       " 'content': 'The use of the term “sustainability” in the SASB Standards refers to corporate activities that maintain or enhance theability of the company to create value over the long term. Sustainability accounting reflects the governance andmanagement of a company’s environmental and social impacts arising from production of goods and services, as well asits governance and management of the environmental and social capitals necessary to create long-term value. The SASBStandards also refer to sustainability as “ESG” (environmental, social, and governance), though traditional corporategovernance issues such as board composition are not included within the scope of the SASB Standards.SASB Standards are designed to identify a minimum set of sustainability issues most likely to impact the operatingperformance or financial condition of the typical company in an industry, regardless of location. SASB Standards aredesigned to enable communications on corporate performance on industry-level sustainability issues in a cost-effectiveand decision-useful manner using existing disclosure and reporting mechanisms.Businesses can use the SASB Standards to better identify, manage, and communicate to investors sustainabilityinformation that is financially material. Use of the Standards can benefit businesses by improving transparency, riskmanagement, and performance. SASB Standards can help investors by encouraging reporting that is comparable,consistent, and financially material, thereby enabling investors to make better investment and voting decisions.',\n",
       " 'total_content_length': 1550,\n",
       " 'content_summary': 'The use of the term “sustainability” in the SASB Standards refers to corporate activities that maintain or enhance theability of the company to create value over the long term. Sustainability accounting reflects the governance andmanagement of a company’s environmental and social impacts arising from production of goods and services, as well asits governance and management of the environmental and social capitals necessary to create long-term value. Businesses can use the SASB Standards to better identify, manage, and communicate to investors sustainabilityinformation that is financially material.'}"
      ]
     },
     "execution_count": 85,
     "metadata": {},
     "output_type": "execute_result"
    }
   ],
   "source": [
    "summarizer_distill_bert_map['Purpose of SASB Standards']"
   ]
  },
  {
   "cell_type": "code",
   "execution_count": 86,
   "id": "e05c6935",
   "metadata": {
    "scrolled": true
   },
   "outputs": [],
   "source": [
    "# toc_map"
   ]
  },
  {
   "cell_type": "code",
   "execution_count": 87,
   "id": "e13df6cb",
   "metadata": {},
   "outputs": [],
   "source": [
    "# summarizer_distill_bert_map"
   ]
  },
  {
   "cell_type": "markdown",
   "id": "f957d3e7",
   "metadata": {},
   "source": [
    "## 3.3 Save in output file <a class=\"anchor\" id=\"section_3_3\"></a>\n",
    "\n",
    "Using tocList, and summarizer_distill_bert_map create a output in a text a file.\n",
    "texts are wrapped to readable format.\n"
   ]
  },
  {
   "cell_type": "code",
   "execution_count": 88,
   "id": "618bfb99",
   "metadata": {},
   "outputs": [],
   "source": [
    "\n",
    "def summary_wrap(value, level=1):\n",
    "    wrapper = textwrap.TextWrapper(width=75)\n",
    "  \n",
    "    wrap_list = wrapper.wrap(value)\n",
    "    \n",
    "    return [item + \"\\n\" + \" \"*level for item in wrap_list]"
   ]
  },
  {
   "cell_type": "code",
   "execution_count": 89,
   "id": "e9f746a3",
   "metadata": {},
   "outputs": [],
   "source": [
    "result_summary_data = []\n",
    "for toc in tocList:\n",
    "    title = toc['title']\n",
    "    if title in summarizer_distill_bert_map:\n",
    "        content_summary = summarizer_distill_bert_map[title]['content_summary']\n",
    "        result_summary_data.append(title)\n",
    "        result_summary_data.append(\"\\n\")\n",
    "        result_summary_data.append(\"-\"*len(title))\n",
    "        result_summary_data.append(\"\\n\"*2)\n",
    "        result_summary_data.append(\" \")\n",
    "        result_summary_data.extend(summary_wrap(content_summary))\n",
    "        result_summary_data.append(\"\\n\"*2)\n",
    "\n",
    "        # check for subsection\n",
    "        if toc['child']:\n",
    "            for child in toc['child']:\n",
    "                child_title = child['title']\n",
    "                child_content_summary = summarizer_distill_bert_map[child_title]['content_summary']\n",
    "\n",
    "                result_summary_data.append(\" \")\n",
    "                result_summary_data.append(child_title)\n",
    "                result_summary_data.append(\"\\n\")\n",
    "                result_summary_data.append(\" \")\n",
    "                result_summary_data.append(\"-\"*len(child_title))\n",
    "                result_summary_data.append(\"\\n\"*2)\n",
    "                result_summary_data.append(\" \"*2)\n",
    "                result_summary_data.extend(summary_wrap(child_content_summary, 2))\n",
    "                result_summary_data.append(\"\\n\"*2)\n",
    "\n",
    "        result_summary_data.append(\"\\n\"*2)\n"
   ]
  },
  {
   "cell_type": "code",
   "execution_count": 92,
   "id": "0265157d",
   "metadata": {},
   "outputs": [],
   "source": [
    "text_file = open(OUTPUT_FILE_PATH, \"wt\")\n",
    "n = text_file.write(''.join(result_summary_data))\n",
    "text_file.close()"
   ]
  },
  {
   "cell_type": "markdown",
   "id": "6d29e0cb",
   "metadata": {},
   "source": [
    "# 4. Conclusion <a class=\"anchor\" id=\"section_4\"></a>\n"
   ]
  },
  {
   "cell_type": "markdown",
   "id": "75cde4ae",
   "metadata": {},
   "source": [
    "\n",
    "1. The models in the transformers library evidently generate summary upto 150 characters, and they are often the definition of the key terms in the input content text.\n",
    "\n",
    "\n",
    "2. GPT 3 model **davinci 002** summarizes the text good enough, however it is a subscription based API.\n",
    "\n",
    "\n",
    "3. SBertSummarizer based miniLM-L6-v2 model paraphrases the input, and for a large corpus summary is expected to be shorter and conceptual text, hence it is not suitable for this summariser.\n",
    "\n",
    "\n",
    "4. BERT architecture based text-summarisers such as **bert-large-uncased**, **distilbert-base-uncased** performed very well, for the base test, for complete PDF summary later model is chosen as it included key terms as well in the summary. **AS the distilbert-base-uncased model provides a crisp description choosing it as the final model.**\n",
    "\n",
    "\n",
    "5. Fine tuned Auto model from transformer seemed to return basic definition of the key words.\n",
    "\n",
    "\n",
    "6. The Various comparsion of the summary is captured in \"results/comparison_model_results.txt\" and summary is captured in \"results/summary/Metals_Mining_Standard_2021_Summary.txt\" files.\n"
   ]
  },
  {
   "cell_type": "code",
   "execution_count": null,
   "id": "13184ff9",
   "metadata": {},
   "outputs": [],
   "source": []
  }
 ],
 "metadata": {
  "kernelspec": {
   "display_name": "Python 3",
   "language": "python",
   "name": "python3"
  },
  "language_info": {
   "codemirror_mode": {
    "name": "ipython",
    "version": 3
   },
   "file_extension": ".py",
   "mimetype": "text/x-python",
   "name": "python",
   "nbconvert_exporter": "python",
   "pygments_lexer": "ipython3",
   "version": "3.8.13"
  }
 },
 "nbformat": 4,
 "nbformat_minor": 5
}
